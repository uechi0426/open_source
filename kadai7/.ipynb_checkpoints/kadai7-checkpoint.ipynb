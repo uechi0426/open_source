{
 "cells": [
  {
   "cell_type": "code",
   "execution_count": 1,
   "metadata": {},
   "outputs": [],
   "source": [
    "import os               #ファイルの作成、ファイル名の変更、パスの生成、パスの取得など\n",
    "from glob import glob   #指定したフォルダにあるファイル名を一括取得、指定した拡張子のファイル名を一括取得\n",
    "import datetime         #時刻を扱うモジュール（日付、時刻の取得）"
   ]
  },
  {
   "cell_type": "code",
   "execution_count": 2,
   "metadata": {},
   "outputs": [
    {
     "name": "stdout",
     "output_type": "stream",
     "text": [
      "C:\\Users\\uechiyasuka\\zemi_kadai\\kadai7\n"
     ]
    }
   ],
   "source": [
    "#現在の作業ディレクトリの確認\n",
    "current_dir = os.getcwd()     #getcwdでディレクトリパスを取得し、変数（current_dir）に格納する\n",
    "print(current_dir)"
   ]
  },
  {
   "cell_type": "code",
   "execution_count": 3,
   "metadata": {},
   "outputs": [
    {
     "name": "stdout",
     "output_type": "stream",
     "text": [
      "C:\\Users\\uechiyasuka\\zemi_kadai\\kadai7\\sample\n"
     ]
    }
   ],
   "source": [
    "#一階層下に'sample'ディレクトリパスを作成する。\n",
    "sample_dir = os.path.join(current_dir, 'sample')   #パスの作成:path.join('現在のディレクトリパス', '追加するディレクトリパス')\n",
    "print(sample_dir)"
   ]
  },
  {
   "cell_type": "code",
   "execution_count": 4,
   "metadata": {},
   "outputs": [],
   "source": [
    "#生成されたパスを使って、新たなディレクトリを作成する。\n",
    "# makedirs():新しいディレクトリを作成。すでに同じ名前のディレクトリが存在する場合の処理を選択できる。 True:上書き, False:Error\n",
    "os.makedirs(sample_dir, exist_ok = True)"
   ]
  },
  {
   "cell_type": "code",
   "execution_count": 5,
   "metadata": {},
   "outputs": [
    {
     "data": {
      "text/plain": [
       "'A'"
      ]
     },
     "execution_count": 5,
     "metadata": {},
     "output_type": "execute_result"
    }
   ],
   "source": [
    "#大文字1文字の拡張子なしファイルの作成\n",
    "# chr():ASCIIコードに従い、数字から文字や記号に変換する。65=A\n",
    "chr(65)"
   ]
  },
  {
   "cell_type": "code",
   "execution_count": 6,
   "metadata": {},
   "outputs": [
    {
     "name": "stdout",
     "output_type": "stream",
     "text": [
      "A , B , C , D , E , F , G , H , I , J , K , L , M , N , O , P , Q , R , S , T , U , V , W , X , Y , Z , "
     ]
    }
   ],
   "source": [
    "#A～Zまでのアルファベットをfor文で表示。65～90 = A～Z\n",
    "for i in range(65, 91):\n",
    "    print(chr(i), end=' , ')   #デフォルトでは改行で表示されるため、引数endに値を渡して表示する。"
   ]
  },
  {
   "cell_type": "code",
   "execution_count": 7,
   "metadata": {},
   "outputs": [
    {
     "name": "stdout",
     "output_type": "stream",
     "text": [
      "['A', 'B', 'C', 'D', 'E', 'F', 'G', 'H', 'I', 'J', 'K', 'L', 'M', 'N', 'O', 'P', 'Q', 'R', 'S', 'T', 'U', 'V', 'W', 'X', 'Y', 'Z']\n"
     ]
    }
   ],
   "source": [
    "#AからZまでのアルファベットをリストに１つずつ追加\n",
    "file_list=[]\n",
    "\n",
    "for i in range(65, 91):\n",
    "    file_list.append(chr(i)*1)  # append()で追加\n",
    "    \n",
    "print(file_list)"
   ]
  },
  {
   "cell_type": "code",
   "execution_count": 8,
   "metadata": {},
   "outputs": [
    {
     "name": "stdout",
     "output_type": "stream",
     "text": [
      "['A', 'B', 'C', 'D', 'E', 'F', 'G', 'H', 'I', 'J', 'K', 'L', 'M', 'N', 'O', 'P', 'Q', 'R', 'S', 'T', 'U', 'V', 'W', 'X', 'Y', 'Z']\n"
     ]
    }
   ],
   "source": [
    "#AからZまでのアルファベットのリストをリスト内包で作成\n",
    "file_list = [chr(i) for i in range(65, 91)]  # (i)の部分がappendの役割を担っている\n",
    "print(file_list)"
   ]
  },
  {
   "cell_type": "code",
   "execution_count": 9,
   "metadata": {},
   "outputs": [
    {
     "name": "stdout",
     "output_type": "stream",
     "text": [
      "['AA', 'BB', 'CC', 'DD', 'EE', 'FF', 'GG', 'HH', 'II', 'JJ', 'KK', 'LL', 'MM', 'NN', 'OO', 'PP', 'QQ', 'RR', 'SS', 'TT', 'UU', 'VV', 'WW', 'XX', 'YY', 'ZZ']\n"
     ]
    }
   ],
   "source": [
    "#アルファベット2文字のリストを作成\n",
    "txt_list = [chr(i)*2 for i in range(65, 91)]\n",
    "print(txt_list)"
   ]
  },
  {
   "cell_type": "code",
   "execution_count": 10,
   "metadata": {},
   "outputs": [
    {
     "name": "stdout",
     "output_type": "stream",
     "text": [
      "['AAA', 'BBB', 'CCC', 'DDD', 'EEE', 'FFF', 'GGG', 'HHH', 'III', 'JJJ', 'KKK', 'LLL', 'MMM', 'NNN', 'OOO', 'PPP', 'QQQ', 'RRR', 'SSS', 'TTT', 'UUU', 'VVV', 'WWW', 'XXX', 'YYY', 'ZZZ']\n"
     ]
    }
   ],
   "source": [
    "#アルファベット3文字のリストを作成\n",
    "csv_list = [chr(i)*3 for i in range(65, 91)]\n",
    "print(csv_list)"
   ]
  },
  {
   "cell_type": "code",
   "execution_count": 11,
   "metadata": {},
   "outputs": [],
   "source": [
    "#ファイルの生成\n",
    "for file_name in file_list:\n",
    "    # open():ファイルを開いて、読み込みや書き込みを行う。\n",
    "    # mode=w:書き込み,r:読み込み\n",
    "    create_file = open(os.path.join(sample_dir, file_name), mode='w')\n",
    "    create_file.write('こんにちは')  # .write()メソッドにより書込み\n",
    "    create_file.close()              # close()により,拓いたファイルを閉じる"
   ]
  },
  {
   "cell_type": "code",
   "execution_count": 12,
   "metadata": {},
   "outputs": [],
   "source": [
    "# txtファイルの作成\n",
    "for file_name in txt_list:\n",
    "    create_file = open(os.path.join(sample_dir, file_name + '.txt'), mode='w')   # file_nameの後に、'.txt'を付ける\n",
    "    create_file.write('こんにちは')\n",
    "    create_file.close()"
   ]
  },
  {
   "cell_type": "code",
   "execution_count": 13,
   "metadata": {},
   "outputs": [],
   "source": [
    "# csvファイルの作成\n",
    "for file_name in csv_list:\n",
    "    create_file = open(os.path.join(sample_dir, file_name + '.csv'), mode='w')   # file_nameの後に、'.csv'を付ける\n",
    "    create_file.write('こんにちは')\n",
    "    create_file.close()"
   ]
  },
  {
   "cell_type": "code",
   "execution_count": 15,
   "metadata": {},
   "outputs": [],
   "source": [
    "path_list = glob(os.path.join(sample_dir, '*.csv')) # glob(ファイルパス, '拡張子'): 指定した拡張子のファイル名を取得\n",
    "#print(path_list)"
   ]
  },
  {
   "cell_type": "code",
   "execution_count": 16,
   "metadata": {},
   "outputs": [],
   "source": [
    "word = 'test'"
   ]
  },
  {
   "cell_type": "code",
   "execution_count": 17,
   "metadata": {},
   "outputs": [
    {
     "name": "stdout",
     "output_type": "stream",
     "text": [
      "2022-01-16 21:49:52.512054\n"
     ]
    }
   ],
   "source": [
    "#現在の日付と時間の取得\n",
    "today = datetime.datetime.now()  # datetime.now(): 現在の日付と時間を取得する関数\n",
    "print(today)"
   ]
  },
  {
   "cell_type": "code",
   "execution_count": 18,
   "metadata": {},
   "outputs": [
    {
     "data": {
      "text/plain": [
       "datetime.datetime"
      ]
     },
     "execution_count": 18,
     "metadata": {},
     "output_type": "execute_result"
    }
   ],
   "source": [
    "type(today)  #データの型の確認"
   ]
  },
  {
   "cell_type": "code",
   "execution_count": 19,
   "metadata": {},
   "outputs": [
    {
     "name": "stdout",
     "output_type": "stream",
     "text": [
      "20220116_2149\n"
     ]
    }
   ],
   "source": [
    "#日付型から文字列型に変換\n",
    "formated_today = today.strftime('%Y%m%d_%H%M')  #strftime(): データ型を日付型から文字列型に変換\n",
    "print(formated_today)"
   ]
  },
  {
   "cell_type": "code",
   "execution_count": 20,
   "metadata": {},
   "outputs": [],
   "source": [
    "#ファイル名の一括変更\n",
    "for path in path_list:\n",
    "    dirname, file_and_ext = os.path.split(path)  #  path_split(): ディレクトリとファイル名に分割してそれぞれ変数に代入, 返り値①dirname:ディレクトリ, 返り値②file_and_ext:ファイル名\n",
    "    file, ext = os.path.splitext(file_and_ext)   # path.splitext(): ファイル名と拡張子に分割, 返り値①file: ファイル名, 返り値②ext: 拡張子 \n",
    "    new_file_name = file + '_' + word + '_' + date +ext   #4つの変数を使って、変更後のファイル名を作成\n",
    "    os.rename(path, os.path.join(dirname, new_file_name)) # rename(変更前のファイル名, 変更後のファイル名)"
   ]
  },
  {
   "cell_type": "code",
   "execution_count": null,
   "metadata": {},
   "outputs": [],
   "source": []
  }
 ],
 "metadata": {
  "kernelspec": {
   "display_name": "Python 3",
   "language": "python",
   "name": "python3"
  },
  "language_info": {
   "codemirror_mode": {
    "name": "ipython",
    "version": 3
   },
   "file_extension": ".py",
   "mimetype": "text/x-python",
   "name": "python",
   "nbconvert_exporter": "python",
   "pygments_lexer": "ipython3",
   "version": "3.8.5"
  }
 },
 "nbformat": 4,
 "nbformat_minor": 4
}
