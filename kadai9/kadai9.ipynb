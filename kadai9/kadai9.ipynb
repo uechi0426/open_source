{
 "cells": [
  {
   "cell_type": "code",
   "execution_count": 1,
   "metadata": {},
   "outputs": [
    {
     "name": "stdout",
     "output_type": "stream",
     "text": [
      "'1': 16861, '2': 16513, '3': 16460, '4': 16880, '5': 16713, '6': 16573\n"
     ]
    }
   ],
   "source": [
    "import random\n",
    "\n",
    "count1 = 0\n",
    "count2 = 0\n",
    "count3 = 0\n",
    "count4 = 0\n",
    "count5 = 0\n",
    "count6 = 0\n",
    "\n",
    "for i in range(0, 100000):\n",
    "    num = random.randint(1, 6)\n",
    "    if num == 1:\n",
    "        count1 = count1 + 1\n",
    "    elif num == 2:\n",
    "        count2 = count2 + 1\n",
    "    elif num == 3:\n",
    "        count3 = count3 + 1\n",
    "    elif num == 4:\n",
    "        count4 = count4 + 1\n",
    "    elif num == 5:\n",
    "        count5 = count5 + 1\n",
    "    else: #elif num == 6:\n",
    "        count6 = count6 + 1\n",
    "\n",
    "print(f\"'1': {count1}\", end=\", \")\n",
    "print(f\"'2': {count2}\", end=\", \")\n",
    "print(f\"'3': {count3}\", end=\", \")\n",
    "print(f\"'4': {count4}\", end=\", \")\n",
    "print(f\"'5': {count5}\", end=\", \")\n",
    "print(f\"'6': {count6}\")"
   ]
  },
  {
   "cell_type": "code",
   "execution_count": 2,
   "metadata": {},
   "outputs": [
    {
     "name": "stdout",
     "output_type": "stream",
     "text": [
      "サイコロ:1 1マス目\n",
      "サイコロ:3 4マス目\n",
      "サイコロ:1 5マス目\n",
      "サイコロ:2 7マス目\n",
      "サイコロ:2 9マス目\n"
     ]
    }
   ],
   "source": [
    "goal=10\n",
    "count=0\n",
    "\n",
    "for i in range(5):\n",
    "    num = random.randint(1, 6)\n",
    "    if count < goal:\n",
    "        count = count + num\n",
    "        if count < goal:\n",
    "            print(f\"サイコロ:{num}\",f\"{count}マス目\")\n",
    "        else: #elif count >= goal:\n",
    "            print(f\"サイコロ:{num}\", \"10マス目　ゴール！\")\n",
    "            count = 0"
   ]
  },
  {
   "cell_type": "code",
   "execution_count": null,
   "metadata": {},
   "outputs": [],
   "source": []
  }
 ],
 "metadata": {
  "kernelspec": {
   "display_name": "Python 3",
   "language": "python",
   "name": "python3"
  },
  "language_info": {
   "codemirror_mode": {
    "name": "ipython",
    "version": 3
   },
   "file_extension": ".py",
   "mimetype": "text/x-python",
   "name": "python",
   "nbconvert_exporter": "python",
   "pygments_lexer": "ipython3",
   "version": "3.8.5"
  }
 },
 "nbformat": 4,
 "nbformat_minor": 4
}
