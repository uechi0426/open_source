{
 "cells": [
  {
   "cell_type": "code",
   "execution_count": 10,
   "metadata": {},
   "outputs": [
    {
     "data": {
      "text/plain": [
       "<Response [200]>"
      ]
     },
     "execution_count": 10,
     "metadata": {},
     "output_type": "execute_result"
    }
   ],
   "source": [
    "import requests  #特定のWebページにアクセスしたり、サーバに指示を送ったりするためのライブラリ\n",
    "import datetime\n",
    "\n",
    "#見やすい形（○○年○○月○○日　00:00:00）に変換\n",
    "time = datetime.datetime.now()\n",
    "time = time.strftime('%Y年%m月%d日 %H:%M:%S')\n",
    "\n",
    "#取得したトークン\n",
    "TOKEN = '取得したトークン'\n",
    "#アクセスするNotifyのWebAPIのURL\n",
    "api_url = 'https://notify-api.line.me/api/notify'\n",
    "#時刻を送る内容の変数に設定\n",
    "send_contents = time\n",
    "#画像ファイルのパスを指定　＊送信できる画像データは.png/,jpg\n",
    "image_file = './tokudai.png'\n",
    "\n",
    "#情報を辞書型にする\n",
    "#トークン情報と送りたい内容は指定の辞書型で渡す必要がある。\n",
    "#{Key:Value} Keyの情報に紐づいているValueを参照する。\n",
    "#トークン情報\n",
    "TOKEN_dic = {'Authorization': 'Bearer' + ' '+ TOKEN} #強調するために’’スペースを代入している。\n",
    "#送りたい内容\n",
    "send_dic = {'message': send_contents}\n",
    "\n",
    "#バイナリデータで読み込む\n",
    "#バイナリデータ：コンピュータが読み取れるように0と1の値で書かれたデータのこと\n",
    "#opne()でバイナリデータを開く\n",
    "#第一引数：読み込むファイル\n",
    "#第二引数：読込専用バイナリ―データを指す'rb'と書くことで、指定したファイルをバイナリ―データとして開くことが出来る\n",
    "binary = open(image_file, mode='rb')\n",
    "#指定の辞書型にする\n",
    "image_dic = {'imageFile': binary}\n",
    "\n",
    "#LINE通知を送る（成功時：200、リクエストが不正：401、アクセストークンが無効:400)\n",
    "#post():サーバにデータや指令を送るために使用するメソッド\n",
    "#第一引数：アクセスするWebAPIのURL、headers:認証情報、data：送りたい内容、files:送信する画像ファイル\n",
    "requests.post(api_url, headers=TOKEN_dic, data=send_dic, files=image_dic)"
   ]
  },
  {
   "cell_type": "code",
   "execution_count": 12,
   "metadata": {},
   "outputs": [
    {
     "data": {
      "text/plain": [
       "<Response [200]>"
      ]
     },
     "execution_count": 12,
     "metadata": {},
     "output_type": "execute_result"
    }
   ],
   "source": [
    "TOKEN = '取得したトークン'\n",
    "api_url = 'https://notify-api.line.me/api/notify'\n",
    "\n",
    "text = 'こんにちは'\n",
    "\n",
    "TOKEN_dic = {'Authorization': 'Bearer' + ' '+ TOKEN}\n",
    "send_dic = {\n",
    "    'message': text,\n",
    "    #スタンプのパッケージID\n",
    "    'stickerPackageId': 789,\n",
    "    #スタンプID\n",
    "    'stickerId': 10855\n",
    "    }\n",
    "\n",
    "requests.post(api_url, headers=TOKEN_dic, data=send_dic)"
   ]
  }
 ],
 "metadata": {
  "kernelspec": {
   "display_name": "Python 3",
   "language": "python",
   "name": "python3"
  },
  "language_info": {
   "codemirror_mode": {
    "name": "ipython",
    "version": 3
   },
   "file_extension": ".py",
   "mimetype": "text/x-python",
   "name": "python",
   "nbconvert_exporter": "python",
   "pygments_lexer": "ipython3",
   "version": "3.8.5"
  }
 },
 "nbformat": 4,
 "nbformat_minor": 4
}
