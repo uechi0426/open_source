{
 "cells": [
  {
   "cell_type": "code",
   "execution_count": 1,
   "metadata": {},
   "outputs": [
    {
     "name": "stdout",
     "output_type": "stream",
     "text": [
      "Requirement already satisfied: beautifulsoup4 in c:\\users\\uechiyasuka\\anaconda3\\lib\\site-packages (4.9.3)\n",
      "Requirement already satisfied: soupsieve>1.2; python_version >= \"3.0\" in c:\\users\\uechiyasuka\\anaconda3\\lib\\site-packages (from beautifulsoup4) (2.0.1)\n"
     ]
    }
   ],
   "source": [
    "!pip install beautifulsoup4"
   ]
  },
  {
   "cell_type": "code",
   "execution_count": 2,
   "metadata": {},
   "outputs": [
    {
     "name": "stdout",
     "output_type": "stream",
     "text": [
      "Requirement already satisfied: chardet in c:\\users\\uechiyasuka\\anaconda3\\lib\\site-packages (3.0.4)\n"
     ]
    }
   ],
   "source": [
    "!pip install chardet"
   ]
  },
  {
   "cell_type": "code",
   "execution_count": 4,
   "metadata": {},
   "outputs": [],
   "source": [
    "from bs4 import BeautifulSoup\n",
    "import requests \n",
    "import pandas as pd\n",
    "import time "
   ]
  },
  {
   "cell_type": "code",
   "execution_count": 6,
   "metadata": {},
   "outputs": [],
   "source": [
    "url = \"https://www.tokushima-u.ac.jp/recent/recent-list/\"\n",
    "r = requests.get(url) #変数urlをgetに渡し、取得したデータをrに格納する。\n",
    "time.sleep(3)"
   ]
  },
  {
   "cell_type": "code",
   "execution_count": 7,
   "metadata": {},
   "outputs": [],
   "source": [
    "soup = BeautifulSoup(r.content, 'html.parser') #htmlを読み取る。 \".text\"だと文字化けするため、\".content\"を使った。"
   ]
  },
  {
   "cell_type": "code",
   "execution_count": 8,
   "metadata": {},
   "outputs": [],
   "source": [
    "#soup"
   ]
  },
  {
   "cell_type": "code",
   "execution_count": 9,
   "metadata": {},
   "outputs": [],
   "source": [
    "contents = soup.find(class_=\"cms-pages pages\") #取得したデータから、各ページに移動するためにタグを指定してページのリンク先を取得する。　"
   ]
  },
  {
   "cell_type": "code",
   "execution_count": 10,
   "metadata": {},
   "outputs": [],
   "source": [
    "#contents"
   ]
  },
  {
   "cell_type": "code",
   "execution_count": 12,
   "metadata": {},
   "outputs": [],
   "source": [
    "get_a = contents.find_all('a')#\"cms-pages pages\"内にあるaタグを全て記述する。"
   ]
  },
  {
   "cell_type": "code",
   "execution_count": 13,
   "metadata": {},
   "outputs": [],
   "source": [
    "#get_a"
   ]
  },
  {
   "cell_type": "code",
   "execution_count": 14,
   "metadata": {},
   "outputs": [],
   "source": [
    "#len(get_a)"
   ]
  },
  {
   "cell_type": "code",
   "execution_count": 18,
   "metadata": {},
   "outputs": [],
   "source": [
    "info_links = []\n",
    "for i in range(10):#10個のデータを取得するために、10回繰り返し処理を行う。\n",
    "    try:\n",
    "        link_ = get_a[i].get(\"href\")#href以下のurlを取得する。\n",
    "        info_links.append(\"https://www.tokushima-u.ac.jp\" + link_)#取得したlink_を追加する。\n",
    "    except:\n",
    "        pass"
   ]
  },
  {
   "cell_type": "code",
   "execution_count": 19,
   "metadata": {},
   "outputs": [],
   "source": [
    "#info_links"
   ]
  },
  {
   "cell_type": "code",
   "execution_count": 20,
   "metadata": {},
   "outputs": [],
   "source": [
    "for i in range(10):\n",
    "    info_link = info_links[i]\n",
    "    #print(str(i)+\"回目のループ\",info_link)"
   ]
  },
  {
   "cell_type": "code",
   "execution_count": 23,
   "metadata": {},
   "outputs": [
    {
     "name": "stdout",
     "output_type": "stream",
     "text": [
      "ストレス応答機構を介した脂肪細胞による食欲制御機序の解明　―肥満や糖尿病への治療応用に期待―\n",
      "キャンパスライフ健康支援センター総合相談部門「第8回ゆる～くやるミニコミュニケーション講座」のご案内（12月2日）\n",
      "令和4年度入学者選抜要項及び学生募集要項の一部修正について\n",
      "令和4年度学生募集要項(一般選抜，学校推薦型選抜Ⅱ)を掲載しました\n",
      "【卒業生及び本学関係者の皆さまへ】令和3年度 第7回徳島大学同窓会連合会交流会オンラインびざん会開催のご案内（11月27日開催）\n",
      "令和4年度徳島大学一般選抜追試験について\n",
      "令和4年度徳島大学入学試験（学校推薦型選抜Ⅰ）における第１次選考実施の有無について\n",
      "第44回 先端酵素学研究所セミナー 開催のお知らせ(令和3年11月24日)\n",
      "「徳島大学技術支援部 常三島技術部門  職員(特任技術員)」採用情報を掲載(令和4年1月14日まで)\n",
      "子宮内膜症の発症に関する新しい知見\n"
     ]
    }
   ],
   "source": [
    "info_titles = []\n",
    "for i in range(len(info_links)):#\"info_links\"と同じ回数の処理を行う。\n",
    "    info_link = info_links[i]#リンク先のurlを1つずつ取り出し、info_linkに代入。\n",
    "    r = requests.get(info_link)#リンク先のurlにアクセスして、読み込んだデータを変数rに代入。\n",
    "    time.sleep(1)\n",
    "    soup = BeautifulSoup(r.content, 'html.parser')\n",
    "    \n",
    "    info_title = soup.find(id=\"page-title\").text\n",
    "    info_titles.append(info_title)\n",
    "    print(info_title)"
   ]
  },
  {
   "cell_type": "code",
   "execution_count": 24,
   "metadata": {},
   "outputs": [
    {
     "name": "stdout",
     "output_type": "stream",
     "text": [
      "\n",
      "【報道発表】ストレス応答機構を介した脂肪細胞による食欲制御機序の解明　ー肥満や糖尿病への治療応用に期待ー\n",
      "\n",
      "\n",
      "\n",
      "詳細はこちら（キャンパスライフ健康支援センターHP）\n",
      "\n",
      "\n",
      "\n",
      "令和4年度入学者選抜要項及び学生募集要項を一部修正しましたのでお知らせします。\n",
      "修正内容は以下のとおりです。\n",
      "\n",
      "【入学者選抜要項修正内容】\n",
      "\n",
      "・医学部医学科定員（→令和4年度入学者選抜の募集人員(確定版)）\n",
      "・各選抜の「入学手続」\n",
      "\n",
      "【学生募集要項修正内容】\n",
      "\n",
      "以下選抜の募集要項の，「入学手続」を修正しました。\n",
      "・総合型選抜\n",
      "・学校推薦型選抜Ⅰ\n",
      "・社会人選抜\n",
      "・帰国生徒選抜\n",
      "\n",
      "→入学者選抜要項・学生募集要項掲載ページへ\n",
      "\n",
      "\n",
      "\n",
      "「入学者選抜要項・学生募集要項等」ページへ\n",
      "\n",
      "\n",
      "\n",
      "　令和3年度 第7回徳島大学同窓会連合会交流会オンラインびざん会を下記のとおり開催いたしますのでお知らせいたします。\n",
      "　徳島大学同窓会連合会では、徳島大学の役員、教職員、学生と卒業生が親睦を深めるため、定期的に交流会を開催しています。卒業生及び本学関係者の皆様は是非ご参加ください。\n",
      "\n",
      "当日の参加URLは　こちらから（Microsoft Teams）\n",
      "\n",
      "開催日時：令和3年11月27日（土） 9時30分から10時30分まで（予定）\n",
      "場　　所：オンラインにて開催（Microsoft Teamsを使用）\n",
      "参 加 費 ：無料\n",
      "概　　要：学長挨拶\n",
      "　　　　　大学のお知らせ「大学広報の取り組みについて」 \n",
      "　　　　　　田村 耕一　徳島大学理事(広報・渉外担当)\n",
      "　　　　　研究者活動報告「入院患者の食事摂取量を判定するAIシステムの研究開発」 \n",
      "　　　　　　田木 真和　徳島大学大学院医歯薬学研究部 医療情報学分野 助教   \n",
      "　　　　　学生活動報告「コロナ禍における写真部の活動」\n",
      "　　　　　　三嶋 慶斗さん　徳島大学写真部 副部長 総合科学部2年\n",
      "　　　　　　祖開 渚さん　　徳島大学写真部 広報 総合科学部2年\n",
      "\n",
      "\n",
      "今回も引き続きオンラインにて開催いたします。たくさんの方のご参加をお待ちしています。\n",
      "■今後の予定：12/12（日）13:30〜14:30　※時間変更しました。\n",
      "\n",
      "お問い合わせ先\n",
      "\n",
      "徳島大学総務部同窓生・基金室\n",
      "担当：宮本, 山下，小出，岩本\n",
      "電話：088-656-9979\n",
      "E-mail：dosokikink@tokushima-u.ac.jp\n",
      "\n",
      "\n",
      "\n",
      " \n",
      " \n",
      "\n",
      "\n",
      "令和4年度徳島大学一般選抜追試験について(214KB)\n",
      "令和4年度徳島大学一般選抜追試験受験願(188KB)\n",
      "\n",
      "\n",
      "\n",
      "第1次選考実施の有無は、以下のとおりです。\n",
      "【学校推薦型選抜Ⅰ（大学入学共通テストを課さない）】\n",
      "　生物資源産業学部→実施しません。\n",
      " \n",
      "\n",
      "\n",
      "\n",
      "11月24日(水)、第44回先端酵素学研究所セミナーを開催します。\n",
      "■イベント名： 先端酵素学研究所セミナー\n",
      "　　　　　　　「形成層幹細胞の同定とその動態」\n",
      "■講演者：石 東博 博士（理化学研究所 環境資源科学研究センター／JST さきがけ）\n",
      "■日時： 2021年11月24日（水曜日）16時00分～17時30分\n",
      "■場所：先端酵素学研究所B棟1階交流ホール\n",
      "\n",
      "開催場所の案内はこちらから\n",
      "詳細はチラシから\n",
      " \n",
      "  \n",
      "\n",
      "\n",
      "\n",
      "詳細はこちら\n",
      "\n",
      "\n",
      "\n",
      "【報道発表】子宮内膜症の発症に関する新しい知見(PDF 722KB)\n",
      "\n"
     ]
    }
   ],
   "source": [
    "info_contents = []\n",
    "for i in range(len(info_links)):\n",
    "    info_link = info_links[i]\n",
    "    r = requests.get(info_link)\n",
    "    time.sleep(1)\n",
    "    soup = BeautifulSoup(r.content, 'html.parser')\n",
    "    \n",
    "    info_content = soup.find(class_=\"body\").text\n",
    "    info_contents.append(info_content)\n",
    "    print(info_content)"
   ]
  },
  {
   "cell_type": "code",
   "execution_count": 25,
   "metadata": {},
   "outputs": [
    {
     "name": "stdout",
     "output_type": "stream",
     "text": [
      "2021年11月26日\n",
      "2021年11月22日\n",
      "2021年11月22日\n",
      "2021年11月22日\n",
      "2021年11月18日\n",
      "2021年11月17日\n",
      "2021年11月15日\n",
      "2021年11月15日\n",
      "2021年11月15日\n",
      "2021年11月15日\n"
     ]
    }
   ],
   "source": [
    "info_dates = []\n",
    "for i in range(len(info_links)):\n",
    "    info_link = info_links[i]\n",
    "    r = requests.get(info_link)\n",
    "    time.sleep(1)\n",
    "    soup = BeautifulSoup(r.content, 'html.parser')\n",
    "    \n",
    "    info_date = soup.find(\"time\").text\n",
    "    info_dates.append(info_date)\n",
    "    print(info_date)"
   ]
  },
  {
   "cell_type": "code",
   "execution_count": 49,
   "metadata": {},
   "outputs": [],
   "source": [
    "#info_dates"
   ]
  },
  {
   "cell_type": "code",
   "execution_count": 50,
   "metadata": {},
   "outputs": [],
   "source": [
    "#info_titles"
   ]
  },
  {
   "cell_type": "code",
   "execution_count": 51,
   "metadata": {},
   "outputs": [],
   "source": [
    "#info_links"
   ]
  },
  {
   "cell_type": "code",
   "execution_count": 52,
   "metadata": {
    "scrolled": true
   },
   "outputs": [],
   "source": [
    "#info_contents"
   ]
  },
  {
   "cell_type": "code",
   "execution_count": 54,
   "metadata": {},
   "outputs": [],
   "source": [
    "result ={\n",
    "    'pubdate': info_dates,\n",
    "    'title': info_titles,\n",
    "    'url': info_links,\n",
    "    'content': info_contents\n",
    "}"
   ]
  },
  {
   "cell_type": "code",
   "execution_count": 55,
   "metadata": {
    "scrolled": true
   },
   "outputs": [],
   "source": [
    "#result"
   ]
  },
  {
   "cell_type": "code",
   "execution_count": 56,
   "metadata": {},
   "outputs": [],
   "source": [
    "df = pd.DataFrame(result)"
   ]
  },
  {
   "cell_type": "code",
   "execution_count": 57,
   "metadata": {
    "scrolled": false
   },
   "outputs": [
    {
     "data": {
      "text/html": [
       "<div>\n",
       "<style scoped>\n",
       "    .dataframe tbody tr th:only-of-type {\n",
       "        vertical-align: middle;\n",
       "    }\n",
       "\n",
       "    .dataframe tbody tr th {\n",
       "        vertical-align: top;\n",
       "    }\n",
       "\n",
       "    .dataframe thead th {\n",
       "        text-align: right;\n",
       "    }\n",
       "</style>\n",
       "<table border=\"1\" class=\"dataframe\">\n",
       "  <thead>\n",
       "    <tr style=\"text-align: right;\">\n",
       "      <th></th>\n",
       "      <th>pubdate</th>\n",
       "      <th>title</th>\n",
       "      <th>url</th>\n",
       "      <th>content</th>\n",
       "    </tr>\n",
       "  </thead>\n",
       "  <tbody>\n",
       "    <tr>\n",
       "      <th>0</th>\n",
       "      <td>2021年11月26日</td>\n",
       "      <td>ストレス応答機構を介した脂肪細胞による食欲制御機序の解明　―肥満や糖尿病への治療応用に期待―</td>\n",
       "      <td>https://www.tokushima-u.ac.jp/docs/32168.html</td>\n",
       "      <td>\\n【報道発表】ストレス応答機構を介した脂肪細胞による食欲制御機序の解明　ー肥満や糖尿病への...</td>\n",
       "    </tr>\n",
       "    <tr>\n",
       "      <th>1</th>\n",
       "      <td>2021年11月22日</td>\n",
       "      <td>キャンパスライフ健康支援センター総合相談部門「第8回ゆる～くやるミニコミュニケーション講座」...</td>\n",
       "      <td>https://www.tokushima-u.ac.jp/docs/31809.html</td>\n",
       "      <td>\\n\\n詳細はこちら（キャンパスライフ健康支援センターHP）\\n\\n</td>\n",
       "    </tr>\n",
       "    <tr>\n",
       "      <th>2</th>\n",
       "      <td>2021年11月22日</td>\n",
       "      <td>令和4年度入学者選抜要項及び学生募集要項の一部修正について</td>\n",
       "      <td>https://www.tokushima-u.ac.jp/docs/31797.html</td>\n",
       "      <td>\\n令和4年度入学者選抜要項及び学生募集要項を一部修正しましたのでお知らせします。\\r\\n修...</td>\n",
       "    </tr>\n",
       "    <tr>\n",
       "      <th>3</th>\n",
       "      <td>2021年11月22日</td>\n",
       "      <td>令和4年度学生募集要項(一般選抜，学校推薦型選抜Ⅱ)を掲載しました</td>\n",
       "      <td>https://www.tokushima-u.ac.jp/docs/31814.html</td>\n",
       "      <td>\\n\\n「入学者選抜要項・学生募集要項等」ページへ\\n\\n</td>\n",
       "    </tr>\n",
       "    <tr>\n",
       "      <th>4</th>\n",
       "      <td>2021年11月18日</td>\n",
       "      <td>【卒業生及び本学関係者の皆さまへ】令和3年度 第7回徳島大学同窓会連合会交流会オンラインびざ...</td>\n",
       "      <td>https://www.tokushima-u.ac.jp/docs/31732.html</td>\n",
       "      <td>\\n　令和3年度 第7回徳島大学同窓会連合会交流会オンラインびざん会を下記のとおり開催いたし...</td>\n",
       "    </tr>\n",
       "    <tr>\n",
       "      <th>5</th>\n",
       "      <td>2021年11月17日</td>\n",
       "      <td>令和4年度徳島大学一般選抜追試験について</td>\n",
       "      <td>https://www.tokushima-u.ac.jp/docs/31761.html</td>\n",
       "      <td>\\n令和4年度徳島大学一般選抜追試験について(214KB)\\n令和4年度徳島大学一般選抜追試...</td>\n",
       "    </tr>\n",
       "    <tr>\n",
       "      <th>6</th>\n",
       "      <td>2021年11月15日</td>\n",
       "      <td>令和4年度徳島大学入学試験（学校推薦型選抜Ⅰ）における第１次選考実施の有無について</td>\n",
       "      <td>https://www.tokushima-u.ac.jp/docs/31730.html</td>\n",
       "      <td>\\n\\n第1次選考実施の有無は、以下のとおりです。\\n【学校推薦型選抜Ⅰ（大学入学共通テスト...</td>\n",
       "    </tr>\n",
       "    <tr>\n",
       "      <th>7</th>\n",
       "      <td>2021年11月15日</td>\n",
       "      <td>第44回 先端酵素学研究所セミナー 開催のお知らせ(令和3年11月24日)</td>\n",
       "      <td>https://www.tokushima-u.ac.jp/docs/31733.html</td>\n",
       "      <td>\\n11月24日(水)、第44回先端酵素学研究所セミナーを開催します。\\n■イベント名： 先...</td>\n",
       "    </tr>\n",
       "    <tr>\n",
       "      <th>8</th>\n",
       "      <td>2021年11月15日</td>\n",
       "      <td>「徳島大学技術支援部 常三島技術部門  職員(特任技術員)」採用情報を掲載(令和4年1月14...</td>\n",
       "      <td>https://www.tokushima-u.ac.jp/docs/31735.html</td>\n",
       "      <td>\\n\\n詳細はこちら\\n\\n</td>\n",
       "    </tr>\n",
       "    <tr>\n",
       "      <th>9</th>\n",
       "      <td>2021年11月15日</td>\n",
       "      <td>子宮内膜症の発症に関する新しい知見</td>\n",
       "      <td>https://www.tokushima-u.ac.jp/docs/31747.html</td>\n",
       "      <td>\\n【報道発表】子宮内膜症の発症に関する新しい知見(PDF 722KB)\\n</td>\n",
       "    </tr>\n",
       "  </tbody>\n",
       "</table>\n",
       "</div>"
      ],
      "text/plain": [
       "       pubdate                                              title  \\\n",
       "0  2021年11月26日     ストレス応答機構を介した脂肪細胞による食欲制御機序の解明　―肥満や糖尿病への治療応用に期待―   \n",
       "1  2021年11月22日  キャンパスライフ健康支援センター総合相談部門「第8回ゆる～くやるミニコミュニケーション講座」...   \n",
       "2  2021年11月22日                      令和4年度入学者選抜要項及び学生募集要項の一部修正について   \n",
       "3  2021年11月22日                  令和4年度学生募集要項(一般選抜，学校推薦型選抜Ⅱ)を掲載しました   \n",
       "4  2021年11月18日  【卒業生及び本学関係者の皆さまへ】令和3年度 第7回徳島大学同窓会連合会交流会オンラインびざ...   \n",
       "5  2021年11月17日                               令和4年度徳島大学一般選抜追試験について   \n",
       "6  2021年11月15日          令和4年度徳島大学入学試験（学校推薦型選抜Ⅰ）における第１次選考実施の有無について   \n",
       "7  2021年11月15日              第44回 先端酵素学研究所セミナー 開催のお知らせ(令和3年11月24日)   \n",
       "8  2021年11月15日  「徳島大学技術支援部 常三島技術部門  職員(特任技術員)」採用情報を掲載(令和4年1月14...   \n",
       "9  2021年11月15日                                  子宮内膜症の発症に関する新しい知見   \n",
       "\n",
       "                                             url  \\\n",
       "0  https://www.tokushima-u.ac.jp/docs/32168.html   \n",
       "1  https://www.tokushima-u.ac.jp/docs/31809.html   \n",
       "2  https://www.tokushima-u.ac.jp/docs/31797.html   \n",
       "3  https://www.tokushima-u.ac.jp/docs/31814.html   \n",
       "4  https://www.tokushima-u.ac.jp/docs/31732.html   \n",
       "5  https://www.tokushima-u.ac.jp/docs/31761.html   \n",
       "6  https://www.tokushima-u.ac.jp/docs/31730.html   \n",
       "7  https://www.tokushima-u.ac.jp/docs/31733.html   \n",
       "8  https://www.tokushima-u.ac.jp/docs/31735.html   \n",
       "9  https://www.tokushima-u.ac.jp/docs/31747.html   \n",
       "\n",
       "                                             content  \n",
       "0  \\n【報道発表】ストレス応答機構を介した脂肪細胞による食欲制御機序の解明　ー肥満や糖尿病への...  \n",
       "1                 \\n\\n詳細はこちら（キャンパスライフ健康支援センターHP）\\n\\n  \n",
       "2  \\n令和4年度入学者選抜要項及び学生募集要項を一部修正しましたのでお知らせします。\\r\\n修...  \n",
       "3                      \\n\\n「入学者選抜要項・学生募集要項等」ページへ\\n\\n  \n",
       "4  \\n　令和3年度 第7回徳島大学同窓会連合会交流会オンラインびざん会を下記のとおり開催いたし...  \n",
       "5  \\n令和4年度徳島大学一般選抜追試験について(214KB)\\n令和4年度徳島大学一般選抜追試...  \n",
       "6  \\n\\n第1次選考実施の有無は、以下のとおりです。\\n【学校推薦型選抜Ⅰ（大学入学共通テスト...  \n",
       "7  \\n11月24日(水)、第44回先端酵素学研究所セミナーを開催します。\\n■イベント名： 先...  \n",
       "8                                     \\n\\n詳細はこちら\\n\\n  \n",
       "9             \\n【報道発表】子宮内膜症の発症に関する新しい知見(PDF 722KB)\\n  "
      ]
     },
     "execution_count": 57,
     "metadata": {},
     "output_type": "execute_result"
    }
   ],
   "source": [
    "df"
   ]
  },
  {
   "cell_type": "code",
   "execution_count": 59,
   "metadata": {},
   "outputs": [],
   "source": [
    "df.to_csv('kadai3.csv', index=False, encoding='utf-8')"
   ]
  },
  {
   "cell_type": "code",
   "execution_count": 61,
   "metadata": {
    "scrolled": false
   },
   "outputs": [
    {
     "data": {
      "text/html": [
       "<div>\n",
       "<style scoped>\n",
       "    .dataframe tbody tr th:only-of-type {\n",
       "        vertical-align: middle;\n",
       "    }\n",
       "\n",
       "    .dataframe tbody tr th {\n",
       "        vertical-align: top;\n",
       "    }\n",
       "\n",
       "    .dataframe thead th {\n",
       "        text-align: right;\n",
       "    }\n",
       "</style>\n",
       "<table border=\"1\" class=\"dataframe\">\n",
       "  <thead>\n",
       "    <tr style=\"text-align: right;\">\n",
       "      <th></th>\n",
       "      <th>pubdate</th>\n",
       "      <th>title</th>\n",
       "      <th>url</th>\n",
       "      <th>content</th>\n",
       "    </tr>\n",
       "  </thead>\n",
       "  <tbody>\n",
       "    <tr>\n",
       "      <th>0</th>\n",
       "      <td>2021年11月26日</td>\n",
       "      <td>ストレス応答機構を介した脂肪細胞による食欲制御機序の解明　―肥満や糖尿病への治療応用に期待―</td>\n",
       "      <td>https://www.tokushima-u.ac.jp/docs/32168.html</td>\n",
       "      <td>\\n【報道発表】ストレス応答機構を介した脂肪細胞による食欲制御機序の解明　ー肥満や糖尿病への...</td>\n",
       "    </tr>\n",
       "    <tr>\n",
       "      <th>1</th>\n",
       "      <td>2021年11月22日</td>\n",
       "      <td>キャンパスライフ健康支援センター総合相談部門「第8回ゆる～くやるミニコミュニケーション講座」...</td>\n",
       "      <td>https://www.tokushima-u.ac.jp/docs/31809.html</td>\n",
       "      <td>\\n\\n詳細はこちら（キャンパスライフ健康支援センターHP）\\n\\n</td>\n",
       "    </tr>\n",
       "    <tr>\n",
       "      <th>2</th>\n",
       "      <td>2021年11月22日</td>\n",
       "      <td>令和4年度入学者選抜要項及び学生募集要項の一部修正について</td>\n",
       "      <td>https://www.tokushima-u.ac.jp/docs/31797.html</td>\n",
       "      <td>\\n令和4年度入学者選抜要項及び学生募集要項を一部修正しましたのでお知らせします。\\r\\n修...</td>\n",
       "    </tr>\n",
       "    <tr>\n",
       "      <th>3</th>\n",
       "      <td>2021年11月22日</td>\n",
       "      <td>令和4年度学生募集要項(一般選抜，学校推薦型選抜Ⅱ)を掲載しました</td>\n",
       "      <td>https://www.tokushima-u.ac.jp/docs/31814.html</td>\n",
       "      <td>\\n\\n「入学者選抜要項・学生募集要項等」ページへ\\n\\n</td>\n",
       "    </tr>\n",
       "    <tr>\n",
       "      <th>4</th>\n",
       "      <td>2021年11月18日</td>\n",
       "      <td>【卒業生及び本学関係者の皆さまへ】令和3年度 第7回徳島大学同窓会連合会交流会オンラインびざ...</td>\n",
       "      <td>https://www.tokushima-u.ac.jp/docs/31732.html</td>\n",
       "      <td>\\n　令和3年度 第7回徳島大学同窓会連合会交流会オンラインびざん会を下記のとおり開催いたし...</td>\n",
       "    </tr>\n",
       "    <tr>\n",
       "      <th>5</th>\n",
       "      <td>2021年11月17日</td>\n",
       "      <td>令和4年度徳島大学一般選抜追試験について</td>\n",
       "      <td>https://www.tokushima-u.ac.jp/docs/31761.html</td>\n",
       "      <td>\\n令和4年度徳島大学一般選抜追試験について(214KB)\\n令和4年度徳島大学一般選抜追試...</td>\n",
       "    </tr>\n",
       "    <tr>\n",
       "      <th>6</th>\n",
       "      <td>2021年11月15日</td>\n",
       "      <td>令和4年度徳島大学入学試験（学校推薦型選抜Ⅰ）における第１次選考実施の有無について</td>\n",
       "      <td>https://www.tokushima-u.ac.jp/docs/31730.html</td>\n",
       "      <td>\\n\\n第1次選考実施の有無は、以下のとおりです。\\n【学校推薦型選抜Ⅰ（大学入学共通テスト...</td>\n",
       "    </tr>\n",
       "    <tr>\n",
       "      <th>7</th>\n",
       "      <td>2021年11月15日</td>\n",
       "      <td>第44回 先端酵素学研究所セミナー 開催のお知らせ(令和3年11月24日)</td>\n",
       "      <td>https://www.tokushima-u.ac.jp/docs/31733.html</td>\n",
       "      <td>\\n11月24日(水)、第44回先端酵素学研究所セミナーを開催します。\\n■イベント名： 先...</td>\n",
       "    </tr>\n",
       "    <tr>\n",
       "      <th>8</th>\n",
       "      <td>2021年11月15日</td>\n",
       "      <td>「徳島大学技術支援部 常三島技術部門  職員(特任技術員)」採用情報を掲載(令和4年1月14...</td>\n",
       "      <td>https://www.tokushima-u.ac.jp/docs/31735.html</td>\n",
       "      <td>\\n\\n詳細はこちら\\n\\n</td>\n",
       "    </tr>\n",
       "    <tr>\n",
       "      <th>9</th>\n",
       "      <td>2021年11月15日</td>\n",
       "      <td>子宮内膜症の発症に関する新しい知見</td>\n",
       "      <td>https://www.tokushima-u.ac.jp/docs/31747.html</td>\n",
       "      <td>\\n【報道発表】子宮内膜症の発症に関する新しい知見(PDF 722KB)\\n</td>\n",
       "    </tr>\n",
       "  </tbody>\n",
       "</table>\n",
       "</div>"
      ],
      "text/plain": [
       "       pubdate                                              title  \\\n",
       "0  2021年11月26日     ストレス応答機構を介した脂肪細胞による食欲制御機序の解明　―肥満や糖尿病への治療応用に期待―   \n",
       "1  2021年11月22日  キャンパスライフ健康支援センター総合相談部門「第8回ゆる～くやるミニコミュニケーション講座」...   \n",
       "2  2021年11月22日                      令和4年度入学者選抜要項及び学生募集要項の一部修正について   \n",
       "3  2021年11月22日                  令和4年度学生募集要項(一般選抜，学校推薦型選抜Ⅱ)を掲載しました   \n",
       "4  2021年11月18日  【卒業生及び本学関係者の皆さまへ】令和3年度 第7回徳島大学同窓会連合会交流会オンラインびざ...   \n",
       "5  2021年11月17日                               令和4年度徳島大学一般選抜追試験について   \n",
       "6  2021年11月15日          令和4年度徳島大学入学試験（学校推薦型選抜Ⅰ）における第１次選考実施の有無について   \n",
       "7  2021年11月15日              第44回 先端酵素学研究所セミナー 開催のお知らせ(令和3年11月24日)   \n",
       "8  2021年11月15日  「徳島大学技術支援部 常三島技術部門  職員(特任技術員)」採用情報を掲載(令和4年1月14...   \n",
       "9  2021年11月15日                                  子宮内膜症の発症に関する新しい知見   \n",
       "\n",
       "                                             url  \\\n",
       "0  https://www.tokushima-u.ac.jp/docs/32168.html   \n",
       "1  https://www.tokushima-u.ac.jp/docs/31809.html   \n",
       "2  https://www.tokushima-u.ac.jp/docs/31797.html   \n",
       "3  https://www.tokushima-u.ac.jp/docs/31814.html   \n",
       "4  https://www.tokushima-u.ac.jp/docs/31732.html   \n",
       "5  https://www.tokushima-u.ac.jp/docs/31761.html   \n",
       "6  https://www.tokushima-u.ac.jp/docs/31730.html   \n",
       "7  https://www.tokushima-u.ac.jp/docs/31733.html   \n",
       "8  https://www.tokushima-u.ac.jp/docs/31735.html   \n",
       "9  https://www.tokushima-u.ac.jp/docs/31747.html   \n",
       "\n",
       "                                             content  \n",
       "0  \\n【報道発表】ストレス応答機構を介した脂肪細胞による食欲制御機序の解明　ー肥満や糖尿病への...  \n",
       "1                 \\n\\n詳細はこちら（キャンパスライフ健康支援センターHP）\\n\\n  \n",
       "2  \\n令和4年度入学者選抜要項及び学生募集要項を一部修正しましたのでお知らせします。\\r\\n修...  \n",
       "3                      \\n\\n「入学者選抜要項・学生募集要項等」ページへ\\n\\n  \n",
       "4  \\n　令和3年度 第7回徳島大学同窓会連合会交流会オンラインびざん会を下記のとおり開催いたし...  \n",
       "5  \\n令和4年度徳島大学一般選抜追試験について(214KB)\\n令和4年度徳島大学一般選抜追試...  \n",
       "6  \\n\\n第1次選考実施の有無は、以下のとおりです。\\n【学校推薦型選抜Ⅰ（大学入学共通テスト...  \n",
       "7  \\n11月24日(水)、第44回先端酵素学研究所セミナーを開催します。\\n■イベント名： 先...  \n",
       "8                                     \\n\\n詳細はこちら\\n\\n  \n",
       "9             \\n【報道発表】子宮内膜症の発症に関する新しい知見(PDF 722KB)\\n  "
      ]
     },
     "execution_count": 61,
     "metadata": {},
     "output_type": "execute_result"
    }
   ],
   "source": [
    "df = pd.read_csv(\"kadai3.csv\")\n",
    "df"
   ]
  }
 ],
 "metadata": {
  "kernelspec": {
   "display_name": "Python 3",
   "language": "python",
   "name": "python3"
  },
  "language_info": {
   "codemirror_mode": {
    "name": "ipython",
    "version": 3
   },
   "file_extension": ".py",
   "mimetype": "text/x-python",
   "name": "python",
   "nbconvert_exporter": "python",
   "pygments_lexer": "ipython3",
   "version": "3.8.5"
  }
 },
 "nbformat": 4,
 "nbformat_minor": 4
}
