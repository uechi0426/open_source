{
 "cells": [
  {
   "cell_type": "code",
   "execution_count": 1,
   "metadata": {},
   "outputs": [],
   "source": [
    "import pandas as pd"
   ]
  },
  {
   "cell_type": "code",
   "execution_count": 2,
   "metadata": {},
   "outputs": [],
   "source": [
    "pd.set_option('display.max_rows', None)"
   ]
  },
  {
   "cell_type": "code",
   "execution_count": 3,
   "metadata": {
    "scrolled": false
   },
   "outputs": [],
   "source": [
    "df_weather = pd.read_csv('気象データ.csv', encoding = 'shift-jis')"
   ]
  },
  {
   "cell_type": "code",
   "execution_count": 4,
   "metadata": {},
   "outputs": [
    {
     "data": {
      "text/plain": [
       "Index(['ダウンロードした時刻：2021/11/10 21:30:43', 'Unnamed: 1', 'Unnamed: 2',\n",
       "       'Unnamed: 3', 'Unnamed: 4', 'Unnamed: 5', 'Unnamed: 6', 'Unnamed: 7',\n",
       "       'Unnamed: 8', 'Unnamed: 9', 'Unnamed: 10', 'Unnamed: 11', 'Unnamed: 12',\n",
       "       'Unnamed: 13', 'Unnamed: 14', 'Unnamed: 15'],\n",
       "      dtype='object')"
      ]
     },
     "execution_count": 4,
     "metadata": {},
     "output_type": "execute_result"
    }
   ],
   "source": [
    "df_weather.columns"
   ]
  },
  {
   "cell_type": "code",
   "execution_count": 5,
   "metadata": {},
   "outputs": [],
   "source": [
    "df_weather.rename(columns =  { 'ダウンロードした時刻：2021/11/10 21:30:43':'年月','Unnamed: 1': '札幌:平均気温','Unnamed: 2': '札幌:降水量','Unnamed: 3': '札幌:日照時間',\n",
    "                               'Unnamed: 4': '東京:平均気温','Unnamed: 5': '東京:降水量','Unnamed: 6': '東京:日照時間',\n",
    "                               'Unnamed: 7': '名古屋:平均気温','Unnamed: 8': '名古屋:降水量','Unnamed: 9': '名古屋:日照時間',\n",
    "                               'Unnamed: 10': '大阪:平均気温', 'Unnamed: 11': '大阪:降水量', 'Unnamed: 12': '大阪:日照時間',\n",
    "                               'Unnamed: 13': '福岡:平均気温', 'Unnamed: 14': '福岡:降水量', 'Unnamed: 15': '福岡:日照時間'}, inplace=True)"
   ]
  },
  {
   "cell_type": "code",
   "execution_count": 6,
   "metadata": {},
   "outputs": [],
   "source": [
    "#df_weather.columns"
   ]
  },
  {
   "cell_type": "code",
   "execution_count": 7,
   "metadata": {},
   "outputs": [],
   "source": [
    "df_weather = df_weather.drop(df_weather.index[[0,1,2]])"
   ]
  },
  {
   "cell_type": "code",
   "execution_count": 8,
   "metadata": {},
   "outputs": [],
   "source": [
    "df_weather = df_weather.set_index('年月')"
   ]
  },
  {
   "cell_type": "code",
   "execution_count": 9,
   "metadata": {},
   "outputs": [],
   "source": [
    "#df_weather.mean()"
   ]
  },
  {
   "cell_type": "code",
   "execution_count": 10,
   "metadata": {},
   "outputs": [],
   "source": [
    "#df_weather.shape"
   ]
  },
  {
   "cell_type": "code",
   "execution_count": 11,
   "metadata": {},
   "outputs": [],
   "source": [
    "#df_weather.columns"
   ]
  },
  {
   "cell_type": "code",
   "execution_count": 12,
   "metadata": {},
   "outputs": [],
   "source": [
    "#df_weather.index"
   ]
  },
  {
   "cell_type": "code",
   "execution_count": 13,
   "metadata": {},
   "outputs": [],
   "source": [
    "#df_weather.iloc[4:10 ,2:6]"
   ]
  },
  {
   "cell_type": "code",
   "execution_count": 14,
   "metadata": {},
   "outputs": [],
   "source": [
    "#df_weather.loc['2021年1月':'2021年6月' ,'札幌:日照時間':'東京:日照時間']"
   ]
  },
  {
   "cell_type": "code",
   "execution_count": 15,
   "metadata": {},
   "outputs": [
    {
     "name": "stdout",
     "output_type": "stream",
     "text": [
      "各都市の気温の平均値\n",
      "10.815384615384618\n",
      "17.161538461538463\n",
      "17.43846153846154\n",
      "18.092307692307692\n",
      "18.615384615384617\n"
     ]
    }
   ],
   "source": [
    "print(\"各都市の気温の平均値\")\n",
    "print(df_weather[\"札幌:平均気温\"].astype(float).mean())\n",
    "print(df_weather[\"東京:平均気温\"].astype(float).mean())\n",
    "print(df_weather[\"名古屋:平均気温\"].astype(float).mean())\n",
    "print(df_weather[\"大阪:平均気温\"].astype(float).mean())\n",
    "print(df_weather[\"福岡:平均気温\"].astype(float).mean())"
   ]
  },
  {
   "cell_type": "code",
   "execution_count": 16,
   "metadata": {},
   "outputs": [
    {
     "name": "stdout",
     "output_type": "stream",
     "text": [
      "各都市の降水量の平均値\n",
      "71.96153846153847\n",
      "153.3846153846154\n",
      "179.30769230769232\n",
      "164.19230769230768\n",
      "167.69230769230768\n"
     ]
    }
   ],
   "source": [
    "print(\"各都市の降水量の平均値\")\n",
    "print(df_weather[\"札幌:降水量\"].astype(float).mean())\n",
    "print(df_weather[\"東京:降水量\"].astype(float).mean())\n",
    "print(df_weather[\"名古屋:降水量\"].astype(float).mean())\n",
    "print(df_weather[\"大阪:降水量\"].astype(float).mean())\n",
    "print(df_weather[\"福岡:降水量\"].astype(float).mean())"
   ]
  },
  {
   "cell_type": "code",
   "execution_count": 17,
   "metadata": {},
   "outputs": [
    {
     "name": "stdout",
     "output_type": "stream",
     "text": [
      "各都市の日照時間の平均値\n",
      "165.21538461538464\n",
      "158.59230769230768\n",
      "170.7923076923077\n",
      "175.65384615384616\n",
      "170.53076923076924\n"
     ]
    }
   ],
   "source": [
    "print(\"各都市の日照時間の平均値\")\n",
    "print(df_weather[\"札幌:日照時間\"].astype(float).mean())\n",
    "print(df_weather[\"東京:日照時間\"].astype(float).mean())\n",
    "print(df_weather[\"名古屋:日照時間\"].astype(float).mean())\n",
    "print(df_weather[\"大阪:日照時間\"].astype(float).mean())\n",
    "print(df_weather[\"福岡:日照時間\"].astype(float).mean())"
   ]
  },
  {
   "cell_type": "code",
   "execution_count": 18,
   "metadata": {},
   "outputs": [
    {
     "name": "stdout",
     "output_type": "stream",
     "text": [
      "各都市の気温の標準偏差\n",
      "9.900155398935762\n",
      "7.245750301790522\n",
      "7.932689588189122\n",
      "7.688136048317297\n",
      "7.395251421672125\n"
     ]
    }
   ],
   "source": [
    "print(\"各都市の気温の標準偏差\")\n",
    "print(df_weather[\"札幌:平均気温\"].astype(float).std())\n",
    "print(df_weather[\"東京:平均気温\"].astype(float).std())\n",
    "print(df_weather[\"名古屋:平均気温\"].astype(float).std())\n",
    "print(df_weather[\"大阪:平均気温\"].astype(float).std())\n",
    "print(df_weather[\"福岡:平均気温\"].astype(float).std())"
   ]
  },
  {
   "cell_type": "code",
   "execution_count": 19,
   "metadata": {},
   "outputs": [
    {
     "name": "stdout",
     "output_type": "stream",
     "text": [
      "各都市の降水量の標準偏差\n",
      "31.81486912492172\n",
      "109.75581872315355\n",
      "109.73387096014356\n",
      "105.78821974065654\n",
      "230.32174402177225\n"
     ]
    }
   ],
   "source": [
    "print(\"各都市の降水量の標準偏差\")\n",
    "print(df_weather[\"札幌:降水量\"].astype(float).std())\n",
    "print(df_weather[\"東京:降水量\"].astype(float).std())\n",
    "print(df_weather[\"名古屋:降水量\"].astype(float).std())\n",
    "print(df_weather[\"大阪:降水量\"].astype(float).std())\n",
    "print(df_weather[\"福岡:降水量\"].astype(float).std())"
   ]
  },
  {
   "cell_type": "code",
   "execution_count": 20,
   "metadata": {},
   "outputs": [
    {
     "name": "stdout",
     "output_type": "stream",
     "text": [
      "各都市の日照時間の標準偏差\n",
      "61.48040129658999\n",
      "38.156333278117394\n",
      "24.611056510521905\n",
      "24.90912200328143\n",
      "30.0913161508816\n"
     ]
    }
   ],
   "source": [
    "print(\"各都市の日照時間の標準偏差\")\n",
    "print(df_weather[\"札幌:日照時間\"].astype(float).std())\n",
    "print(df_weather[\"東京:日照時間\"].astype(float).std())\n",
    "print(df_weather[\"名古屋:日照時間\"].astype(float).std())\n",
    "print(df_weather[\"大阪:日照時間\"].astype(float).std())\n",
    "print(df_weather[\"福岡:日照時間\"].astype(float).std())"
   ]
  },
  {
   "cell_type": "code",
   "execution_count": 21,
   "metadata": {
    "scrolled": true
   },
   "outputs": [],
   "source": [
    "df_ice = pd.read_csv('アイスクリーム.csv',encoding ='shift-jis')"
   ]
  },
  {
   "cell_type": "code",
   "execution_count": 22,
   "metadata": {},
   "outputs": [],
   "source": [
    "df_ice = df_ice[df_ice['地域区分'] == '01100 札幌市']"
   ]
  },
  {
   "cell_type": "code",
   "execution_count": 23,
   "metadata": {
    "scrolled": true
   },
   "outputs": [],
   "source": [
    "#df_ice = df_ice[[ '356 アイスクリーム・シャーベット【円】']]\n",
    "#df_ice"
   ]
  },
  {
   "cell_type": "code",
   "execution_count": 24,
   "metadata": {},
   "outputs": [],
   "source": [
    "df_ice['札幌の気温'] = [20.1, 13.1, 6.3, -1.6, -4.4, -2.2, 3.8, 7.9, 13.1, 18.9, 23.9, 22.9, 18.8]\n",
    "df_ice['東京の気温'] = [24.2, 17.5, 14, 7.7, 5.4, 8.5, 12.8, 15.1, 19.6, 22.7, 25.9, 27.4, 22.3]\n",
    "df_ice['名古屋の気温'] = [25.4, 18, 14, 7.4, 5, 7.5, 12, 15.2, 19.5, 23.4, 27.4, 27.8, 24.1]\n",
    "df_ice['大阪の気温'] = [25.8, 18.7, 14.7, 8.7, 6.2, 8.7, 12.2, 15.5, 20, 23.9, 27.9, 28.1, 24.8]\n",
    "df_ice['福岡の気温'] = [24.5, 19.4, 15.3, 8.5, 7, 10.2, 13.5, 16.7, 20.4, 24.2, 28.9, 27.5, 25.9]"
   ]
  },
  {
   "cell_type": "code",
   "execution_count": 25,
   "metadata": {},
   "outputs": [],
   "source": [
    "df_ice['札幌のアイス平均支出'] = [938, 482, 513, 718, 614, 543, 651, 550, 610,  1065, 1417, 1426, 868]\n",
    "df_ice['東京のアイス平均支出'] = [1133, 784, 682, 587, 509, 432, 550, 686, 889,  1014, 1282, 1385, 1053]\n",
    "df_ice['名古屋のアイス平均支出'] = [1183, 703, 589, 463, 537, 402, 604, 806, 967, 1232, 1375, 1219, 1055]\n",
    "df_ice['大阪のアイス平均支出'] = [822, 548, 445, 568, 511, 531, 608, 798, 939, 1209, 1499, 1462, 1000]\n",
    "df_ice['福岡のアイス平均支出'] = [1057, 954, 912, 758, 773, 665, 604, 935, 1074, 1167, 1310, 1435, 1018]"
   ]
  },
  {
   "cell_type": "code",
   "execution_count": 27,
   "metadata": {},
   "outputs": [],
   "source": [
    "#df_ice.columns"
   ]
  },
  {
   "cell_type": "code",
   "execution_count": 28,
   "metadata": {},
   "outputs": [],
   "source": [
    "df_ice = df_ice[['時間軸（月次）',\n",
    "                 '札幌の気温',\n",
    "                 '札幌のアイス平均支出',\n",
    "                 '東京の気温',\n",
    "                 '東京のアイス平均支出',\n",
    "                 '名古屋の気温',\n",
    "                 '名古屋のアイス平均支出',\n",
    "                 '大阪の気温',\n",
    "                 '大阪のアイス平均支出',\n",
    "                 '福岡の気温',\n",
    "                 '福岡のアイス平均支出'\n",
    "                 ]]"
   ]
  },
  {
   "cell_type": "code",
   "execution_count": 29,
   "metadata": {},
   "outputs": [
    {
     "data": {
      "text/html": [
       "<div>\n",
       "<style scoped>\n",
       "    .dataframe tbody tr th:only-of-type {\n",
       "        vertical-align: middle;\n",
       "    }\n",
       "\n",
       "    .dataframe tbody tr th {\n",
       "        vertical-align: top;\n",
       "    }\n",
       "\n",
       "    .dataframe thead th {\n",
       "        text-align: right;\n",
       "    }\n",
       "</style>\n",
       "<table border=\"1\" class=\"dataframe\">\n",
       "  <thead>\n",
       "    <tr style=\"text-align: right;\">\n",
       "      <th></th>\n",
       "      <th>札幌の気温</th>\n",
       "      <th>札幌のアイス平均支出</th>\n",
       "      <th>東京の気温</th>\n",
       "      <th>東京のアイス平均支出</th>\n",
       "      <th>名古屋の気温</th>\n",
       "      <th>名古屋のアイス平均支出</th>\n",
       "      <th>大阪の気温</th>\n",
       "      <th>大阪のアイス平均支出</th>\n",
       "      <th>福岡の気温</th>\n",
       "      <th>福岡のアイス平均支出</th>\n",
       "    </tr>\n",
       "    <tr>\n",
       "      <th>時間軸（月次）</th>\n",
       "      <th></th>\n",
       "      <th></th>\n",
       "      <th></th>\n",
       "      <th></th>\n",
       "      <th></th>\n",
       "      <th></th>\n",
       "      <th></th>\n",
       "      <th></th>\n",
       "      <th></th>\n",
       "      <th></th>\n",
       "    </tr>\n",
       "  </thead>\n",
       "  <tbody>\n",
       "    <tr>\n",
       "      <th>2020年9月</th>\n",
       "      <td>20.1</td>\n",
       "      <td>938</td>\n",
       "      <td>24.2</td>\n",
       "      <td>1133</td>\n",
       "      <td>25.4</td>\n",
       "      <td>1183</td>\n",
       "      <td>25.8</td>\n",
       "      <td>822</td>\n",
       "      <td>24.5</td>\n",
       "      <td>1057</td>\n",
       "    </tr>\n",
       "    <tr>\n",
       "      <th>2020年10月</th>\n",
       "      <td>13.1</td>\n",
       "      <td>482</td>\n",
       "      <td>17.5</td>\n",
       "      <td>784</td>\n",
       "      <td>18.0</td>\n",
       "      <td>703</td>\n",
       "      <td>18.7</td>\n",
       "      <td>548</td>\n",
       "      <td>19.4</td>\n",
       "      <td>954</td>\n",
       "    </tr>\n",
       "    <tr>\n",
       "      <th>2020年11月</th>\n",
       "      <td>6.3</td>\n",
       "      <td>513</td>\n",
       "      <td>14.0</td>\n",
       "      <td>682</td>\n",
       "      <td>14.0</td>\n",
       "      <td>589</td>\n",
       "      <td>14.7</td>\n",
       "      <td>445</td>\n",
       "      <td>15.3</td>\n",
       "      <td>912</td>\n",
       "    </tr>\n",
       "    <tr>\n",
       "      <th>2020年12月</th>\n",
       "      <td>-1.6</td>\n",
       "      <td>718</td>\n",
       "      <td>7.7</td>\n",
       "      <td>587</td>\n",
       "      <td>7.4</td>\n",
       "      <td>463</td>\n",
       "      <td>8.7</td>\n",
       "      <td>568</td>\n",
       "      <td>8.5</td>\n",
       "      <td>758</td>\n",
       "    </tr>\n",
       "    <tr>\n",
       "      <th>2021年1月</th>\n",
       "      <td>-4.4</td>\n",
       "      <td>614</td>\n",
       "      <td>5.4</td>\n",
       "      <td>509</td>\n",
       "      <td>5.0</td>\n",
       "      <td>537</td>\n",
       "      <td>6.2</td>\n",
       "      <td>511</td>\n",
       "      <td>7.0</td>\n",
       "      <td>773</td>\n",
       "    </tr>\n",
       "    <tr>\n",
       "      <th>2021年2月</th>\n",
       "      <td>-2.2</td>\n",
       "      <td>543</td>\n",
       "      <td>8.5</td>\n",
       "      <td>432</td>\n",
       "      <td>7.5</td>\n",
       "      <td>402</td>\n",
       "      <td>8.7</td>\n",
       "      <td>531</td>\n",
       "      <td>10.2</td>\n",
       "      <td>665</td>\n",
       "    </tr>\n",
       "    <tr>\n",
       "      <th>2021年3月</th>\n",
       "      <td>3.8</td>\n",
       "      <td>651</td>\n",
       "      <td>12.8</td>\n",
       "      <td>550</td>\n",
       "      <td>12.0</td>\n",
       "      <td>604</td>\n",
       "      <td>12.2</td>\n",
       "      <td>608</td>\n",
       "      <td>13.5</td>\n",
       "      <td>604</td>\n",
       "    </tr>\n",
       "    <tr>\n",
       "      <th>2021年4月</th>\n",
       "      <td>7.9</td>\n",
       "      <td>550</td>\n",
       "      <td>15.1</td>\n",
       "      <td>686</td>\n",
       "      <td>15.2</td>\n",
       "      <td>806</td>\n",
       "      <td>15.5</td>\n",
       "      <td>798</td>\n",
       "      <td>16.7</td>\n",
       "      <td>935</td>\n",
       "    </tr>\n",
       "    <tr>\n",
       "      <th>2021年5月</th>\n",
       "      <td>13.1</td>\n",
       "      <td>610</td>\n",
       "      <td>19.6</td>\n",
       "      <td>889</td>\n",
       "      <td>19.5</td>\n",
       "      <td>967</td>\n",
       "      <td>20.0</td>\n",
       "      <td>939</td>\n",
       "      <td>20.4</td>\n",
       "      <td>1074</td>\n",
       "    </tr>\n",
       "    <tr>\n",
       "      <th>2021年6月</th>\n",
       "      <td>18.9</td>\n",
       "      <td>1065</td>\n",
       "      <td>22.7</td>\n",
       "      <td>1014</td>\n",
       "      <td>23.4</td>\n",
       "      <td>1232</td>\n",
       "      <td>23.9</td>\n",
       "      <td>1209</td>\n",
       "      <td>24.2</td>\n",
       "      <td>1167</td>\n",
       "    </tr>\n",
       "    <tr>\n",
       "      <th>2021年7月</th>\n",
       "      <td>23.9</td>\n",
       "      <td>1417</td>\n",
       "      <td>25.9</td>\n",
       "      <td>1282</td>\n",
       "      <td>27.4</td>\n",
       "      <td>1375</td>\n",
       "      <td>27.9</td>\n",
       "      <td>1499</td>\n",
       "      <td>28.9</td>\n",
       "      <td>1310</td>\n",
       "    </tr>\n",
       "    <tr>\n",
       "      <th>2021年8月</th>\n",
       "      <td>22.9</td>\n",
       "      <td>1426</td>\n",
       "      <td>27.4</td>\n",
       "      <td>1385</td>\n",
       "      <td>27.8</td>\n",
       "      <td>1219</td>\n",
       "      <td>28.1</td>\n",
       "      <td>1462</td>\n",
       "      <td>27.5</td>\n",
       "      <td>1435</td>\n",
       "    </tr>\n",
       "    <tr>\n",
       "      <th>2021年9月</th>\n",
       "      <td>18.8</td>\n",
       "      <td>868</td>\n",
       "      <td>22.3</td>\n",
       "      <td>1053</td>\n",
       "      <td>24.1</td>\n",
       "      <td>1055</td>\n",
       "      <td>24.8</td>\n",
       "      <td>1000</td>\n",
       "      <td>25.9</td>\n",
       "      <td>1018</td>\n",
       "    </tr>\n",
       "  </tbody>\n",
       "</table>\n",
       "</div>"
      ],
      "text/plain": [
       "          札幌の気温  札幌のアイス平均支出  東京の気温  東京のアイス平均支出  名古屋の気温  名古屋のアイス平均支出  大阪の気温  \\\n",
       "時間軸（月次）                                                                      \n",
       "2020年9月    20.1         938   24.2        1133    25.4         1183   25.8   \n",
       "2020年10月   13.1         482   17.5         784    18.0          703   18.7   \n",
       "2020年11月    6.3         513   14.0         682    14.0          589   14.7   \n",
       "2020年12月   -1.6         718    7.7         587     7.4          463    8.7   \n",
       "2021年1月    -4.4         614    5.4         509     5.0          537    6.2   \n",
       "2021年2月    -2.2         543    8.5         432     7.5          402    8.7   \n",
       "2021年3月     3.8         651   12.8         550    12.0          604   12.2   \n",
       "2021年4月     7.9         550   15.1         686    15.2          806   15.5   \n",
       "2021年5月    13.1         610   19.6         889    19.5          967   20.0   \n",
       "2021年6月    18.9        1065   22.7        1014    23.4         1232   23.9   \n",
       "2021年7月    23.9        1417   25.9        1282    27.4         1375   27.9   \n",
       "2021年8月    22.9        1426   27.4        1385    27.8         1219   28.1   \n",
       "2021年9月    18.8         868   22.3        1053    24.1         1055   24.8   \n",
       "\n",
       "          大阪のアイス平均支出  福岡の気温  福岡のアイス平均支出  \n",
       "時間軸（月次）                                  \n",
       "2020年9月          822   24.5        1057  \n",
       "2020年10月         548   19.4         954  \n",
       "2020年11月         445   15.3         912  \n",
       "2020年12月         568    8.5         758  \n",
       "2021年1月          511    7.0         773  \n",
       "2021年2月          531   10.2         665  \n",
       "2021年3月          608   13.5         604  \n",
       "2021年4月          798   16.7         935  \n",
       "2021年5月          939   20.4        1074  \n",
       "2021年6月         1209   24.2        1167  \n",
       "2021年7月         1499   28.9        1310  \n",
       "2021年8月         1462   27.5        1435  \n",
       "2021年9月         1000   25.9        1018  "
      ]
     },
     "execution_count": 29,
     "metadata": {},
     "output_type": "execute_result"
    }
   ],
   "source": [
    "df_ice = df_ice.set_index('時間軸（月次）')\n",
    "df_ice"
   ]
  },
  {
   "cell_type": "code",
   "execution_count": 30,
   "metadata": {},
   "outputs": [
    {
     "data": {
      "text/plain": [
       "札幌の気温          float64\n",
       "札幌のアイス平均支出       int64\n",
       "東京の気温          float64\n",
       "東京のアイス平均支出       int64\n",
       "名古屋の気温         float64\n",
       "名古屋のアイス平均支出      int64\n",
       "大阪の気温          float64\n",
       "大阪のアイス平均支出       int64\n",
       "福岡の気温          float64\n",
       "福岡のアイス平均支出       int64\n",
       "dtype: object"
      ]
     },
     "execution_count": 30,
     "metadata": {},
     "output_type": "execute_result"
    }
   ],
   "source": [
    "df_ice.dtypes"
   ]
  },
  {
   "cell_type": "code",
   "execution_count": 31,
   "metadata": {},
   "outputs": [
    {
     "data": {
      "text/html": [
       "<style  type=\"text/css\" >\n",
       "#T_d0e7c05b_46a1_11ec_899a_2816a86f1d5frow0_col0,#T_d0e7c05b_46a1_11ec_899a_2816a86f1d5frow1_col1,#T_d0e7c05b_46a1_11ec_899a_2816a86f1d5frow2_col2,#T_d0e7c05b_46a1_11ec_899a_2816a86f1d5frow3_col3,#T_d0e7c05b_46a1_11ec_899a_2816a86f1d5frow4_col4,#T_d0e7c05b_46a1_11ec_899a_2816a86f1d5frow4_col6,#T_d0e7c05b_46a1_11ec_899a_2816a86f1d5frow5_col5,#T_d0e7c05b_46a1_11ec_899a_2816a86f1d5frow6_col4,#T_d0e7c05b_46a1_11ec_899a_2816a86f1d5frow6_col6,#T_d0e7c05b_46a1_11ec_899a_2816a86f1d5frow7_col7,#T_d0e7c05b_46a1_11ec_899a_2816a86f1d5frow8_col8,#T_d0e7c05b_46a1_11ec_899a_2816a86f1d5frow9_col9{\n",
       "            background-color:  #023858;\n",
       "            color:  #f1f1f1;\n",
       "        }#T_d0e7c05b_46a1_11ec_899a_2816a86f1d5frow0_col1,#T_d0e7c05b_46a1_11ec_899a_2816a86f1d5frow1_col0,#T_d0e7c05b_46a1_11ec_899a_2816a86f1d5frow1_col8,#T_d0e7c05b_46a1_11ec_899a_2816a86f1d5frow8_col1{\n",
       "            background-color:  #fff7fb;\n",
       "            color:  #000000;\n",
       "        }#T_d0e7c05b_46a1_11ec_899a_2816a86f1d5frow0_col2,#T_d0e7c05b_46a1_11ec_899a_2816a86f1d5frow0_col8,#T_d0e7c05b_46a1_11ec_899a_2816a86f1d5frow2_col0,#T_d0e7c05b_46a1_11ec_899a_2816a86f1d5frow8_col0{\n",
       "            background-color:  #023d60;\n",
       "            color:  #f1f1f1;\n",
       "        }#T_d0e7c05b_46a1_11ec_899a_2816a86f1d5frow0_col3,#T_d0e7c05b_46a1_11ec_899a_2816a86f1d5frow3_col0{\n",
       "            background-color:  #046299;\n",
       "            color:  #f1f1f1;\n",
       "        }#T_d0e7c05b_46a1_11ec_899a_2816a86f1d5frow0_col4,#T_d0e7c05b_46a1_11ec_899a_2816a86f1d5frow0_col6,#T_d0e7c05b_46a1_11ec_899a_2816a86f1d5frow2_col4,#T_d0e7c05b_46a1_11ec_899a_2816a86f1d5frow4_col0,#T_d0e7c05b_46a1_11ec_899a_2816a86f1d5frow4_col2,#T_d0e7c05b_46a1_11ec_899a_2816a86f1d5frow6_col0{\n",
       "            background-color:  #023a5b;\n",
       "            color:  #f1f1f1;\n",
       "        }#T_d0e7c05b_46a1_11ec_899a_2816a86f1d5frow0_col5,#T_d0e7c05b_46a1_11ec_899a_2816a86f1d5frow4_col5,#T_d0e7c05b_46a1_11ec_899a_2816a86f1d5frow5_col0,#T_d0e7c05b_46a1_11ec_899a_2816a86f1d5frow5_col4,#T_d0e7c05b_46a1_11ec_899a_2816a86f1d5frow5_col6,#T_d0e7c05b_46a1_11ec_899a_2816a86f1d5frow6_col5{\n",
       "            background-color:  #05659f;\n",
       "            color:  #f1f1f1;\n",
       "        }#T_d0e7c05b_46a1_11ec_899a_2816a86f1d5frow0_col7,#T_d0e7c05b_46a1_11ec_899a_2816a86f1d5frow7_col0{\n",
       "            background-color:  #adc1dd;\n",
       "            color:  #000000;\n",
       "        }#T_d0e7c05b_46a1_11ec_899a_2816a86f1d5frow0_col9,#T_d0e7c05b_46a1_11ec_899a_2816a86f1d5frow7_col9,#T_d0e7c05b_46a1_11ec_899a_2816a86f1d5frow9_col0,#T_d0e7c05b_46a1_11ec_899a_2816a86f1d5frow9_col7{\n",
       "            background-color:  #549cc7;\n",
       "            color:  #000000;\n",
       "        }#T_d0e7c05b_46a1_11ec_899a_2816a86f1d5frow1_col2,#T_d0e7c05b_46a1_11ec_899a_2816a86f1d5frow2_col1{\n",
       "            background-color:  #faf2f8;\n",
       "            color:  #000000;\n",
       "        }#T_d0e7c05b_46a1_11ec_899a_2816a86f1d5frow1_col3,#T_d0e7c05b_46a1_11ec_899a_2816a86f1d5frow3_col1{\n",
       "            background-color:  #80aed2;\n",
       "            color:  #000000;\n",
       "        }#T_d0e7c05b_46a1_11ec_899a_2816a86f1d5frow1_col4,#T_d0e7c05b_46a1_11ec_899a_2816a86f1d5frow4_col1{\n",
       "            background-color:  #fbf3f9;\n",
       "            color:  #000000;\n",
       "        }#T_d0e7c05b_46a1_11ec_899a_2816a86f1d5frow1_col5,#T_d0e7c05b_46a1_11ec_899a_2816a86f1d5frow5_col1{\n",
       "            background-color:  #bcc7e1;\n",
       "            color:  #000000;\n",
       "        }#T_d0e7c05b_46a1_11ec_899a_2816a86f1d5frow1_col6,#T_d0e7c05b_46a1_11ec_899a_2816a86f1d5frow6_col1{\n",
       "            background-color:  #f7f0f7;\n",
       "            color:  #000000;\n",
       "        }#T_d0e7c05b_46a1_11ec_899a_2816a86f1d5frow1_col7,#T_d0e7c05b_46a1_11ec_899a_2816a86f1d5frow7_col1{\n",
       "            background-color:  #2182b9;\n",
       "            color:  #000000;\n",
       "        }#T_d0e7c05b_46a1_11ec_899a_2816a86f1d5frow1_col9,#T_d0e7c05b_46a1_11ec_899a_2816a86f1d5frow9_col1{\n",
       "            background-color:  #d0d1e6;\n",
       "            color:  #000000;\n",
       "        }#T_d0e7c05b_46a1_11ec_899a_2816a86f1d5frow2_col3,#T_d0e7c05b_46a1_11ec_899a_2816a86f1d5frow3_col2{\n",
       "            background-color:  #046198;\n",
       "            color:  #f1f1f1;\n",
       "        }#T_d0e7c05b_46a1_11ec_899a_2816a86f1d5frow2_col5,#T_d0e7c05b_46a1_11ec_899a_2816a86f1d5frow3_col5,#T_d0e7c05b_46a1_11ec_899a_2816a86f1d5frow5_col2,#T_d0e7c05b_46a1_11ec_899a_2816a86f1d5frow5_col3,#T_d0e7c05b_46a1_11ec_899a_2816a86f1d5frow5_col8,#T_d0e7c05b_46a1_11ec_899a_2816a86f1d5frow8_col5{\n",
       "            background-color:  #0569a4;\n",
       "            color:  #f1f1f1;\n",
       "        }#T_d0e7c05b_46a1_11ec_899a_2816a86f1d5frow2_col6,#T_d0e7c05b_46a1_11ec_899a_2816a86f1d5frow6_col2{\n",
       "            background-color:  #023b5d;\n",
       "            color:  #f1f1f1;\n",
       "        }#T_d0e7c05b_46a1_11ec_899a_2816a86f1d5frow2_col7,#T_d0e7c05b_46a1_11ec_899a_2816a86f1d5frow7_col2{\n",
       "            background-color:  #9fbad9;\n",
       "            color:  #000000;\n",
       "        }#T_d0e7c05b_46a1_11ec_899a_2816a86f1d5frow2_col8,#T_d0e7c05b_46a1_11ec_899a_2816a86f1d5frow8_col2{\n",
       "            background-color:  #034165;\n",
       "            color:  #f1f1f1;\n",
       "        }#T_d0e7c05b_46a1_11ec_899a_2816a86f1d5frow2_col9,#T_d0e7c05b_46a1_11ec_899a_2816a86f1d5frow9_col2{\n",
       "            background-color:  #529bc7;\n",
       "            color:  #000000;\n",
       "        }#T_d0e7c05b_46a1_11ec_899a_2816a86f1d5frow3_col4,#T_d0e7c05b_46a1_11ec_899a_2816a86f1d5frow4_col3{\n",
       "            background-color:  #045e94;\n",
       "            color:  #f1f1f1;\n",
       "        }#T_d0e7c05b_46a1_11ec_899a_2816a86f1d5frow3_col6,#T_d0e7c05b_46a1_11ec_899a_2816a86f1d5frow6_col3{\n",
       "            background-color:  #045b8f;\n",
       "            color:  #f1f1f1;\n",
       "        }#T_d0e7c05b_46a1_11ec_899a_2816a86f1d5frow3_col7,#T_d0e7c05b_46a1_11ec_899a_2816a86f1d5frow7_col3{\n",
       "            background-color:  #509ac6;\n",
       "            color:  #000000;\n",
       "        }#T_d0e7c05b_46a1_11ec_899a_2816a86f1d5frow3_col8,#T_d0e7c05b_46a1_11ec_899a_2816a86f1d5frow8_col3{\n",
       "            background-color:  #0567a2;\n",
       "            color:  #f1f1f1;\n",
       "        }#T_d0e7c05b_46a1_11ec_899a_2816a86f1d5frow3_col9,#T_d0e7c05b_46a1_11ec_899a_2816a86f1d5frow9_col3{\n",
       "            background-color:  #056ba7;\n",
       "            color:  #f1f1f1;\n",
       "        }#T_d0e7c05b_46a1_11ec_899a_2816a86f1d5frow4_col7,#T_d0e7c05b_46a1_11ec_899a_2816a86f1d5frow7_col4{\n",
       "            background-color:  #a8bedc;\n",
       "            color:  #000000;\n",
       "        }#T_d0e7c05b_46a1_11ec_899a_2816a86f1d5frow4_col8,#T_d0e7c05b_46a1_11ec_899a_2816a86f1d5frow6_col8,#T_d0e7c05b_46a1_11ec_899a_2816a86f1d5frow8_col4,#T_d0e7c05b_46a1_11ec_899a_2816a86f1d5frow8_col6{\n",
       "            background-color:  #023c5f;\n",
       "            color:  #f1f1f1;\n",
       "        }#T_d0e7c05b_46a1_11ec_899a_2816a86f1d5frow4_col9,#T_d0e7c05b_46a1_11ec_899a_2816a86f1d5frow9_col4{\n",
       "            background-color:  #569dc8;\n",
       "            color:  #000000;\n",
       "        }#T_d0e7c05b_46a1_11ec_899a_2816a86f1d5frow5_col7,#T_d0e7c05b_46a1_11ec_899a_2816a86f1d5frow7_col5{\n",
       "            background-color:  #308cbe;\n",
       "            color:  #000000;\n",
       "        }#T_d0e7c05b_46a1_11ec_899a_2816a86f1d5frow5_col9,#T_d0e7c05b_46a1_11ec_899a_2816a86f1d5frow9_col5{\n",
       "            background-color:  #4697c4;\n",
       "            color:  #000000;\n",
       "        }#T_d0e7c05b_46a1_11ec_899a_2816a86f1d5frow6_col7,#T_d0e7c05b_46a1_11ec_899a_2816a86f1d5frow7_col6{\n",
       "            background-color:  #a5bddb;\n",
       "            color:  #000000;\n",
       "        }#T_d0e7c05b_46a1_11ec_899a_2816a86f1d5frow6_col9,#T_d0e7c05b_46a1_11ec_899a_2816a86f1d5frow9_col6{\n",
       "            background-color:  #4c99c5;\n",
       "            color:  #000000;\n",
       "        }#T_d0e7c05b_46a1_11ec_899a_2816a86f1d5frow7_col8,#T_d0e7c05b_46a1_11ec_899a_2816a86f1d5frow8_col7{\n",
       "            background-color:  #9ab8d8;\n",
       "            color:  #000000;\n",
       "        }#T_d0e7c05b_46a1_11ec_899a_2816a86f1d5frow8_col9,#T_d0e7c05b_46a1_11ec_899a_2816a86f1d5frow9_col8{\n",
       "            background-color:  #65a3cb;\n",
       "            color:  #000000;\n",
       "        }</style><table id=\"T_d0e7c05b_46a1_11ec_899a_2816a86f1d5f\" ><thead>    <tr>        <th class=\"blank level0\" ></th>        <th class=\"col_heading level0 col0\" >札幌の気温</th>        <th class=\"col_heading level0 col1\" >札幌のアイス平均支出</th>        <th class=\"col_heading level0 col2\" >東京の気温</th>        <th class=\"col_heading level0 col3\" >東京のアイス平均支出</th>        <th class=\"col_heading level0 col4\" >名古屋の気温</th>        <th class=\"col_heading level0 col5\" >名古屋のアイス平均支出</th>        <th class=\"col_heading level0 col6\" >大阪の気温</th>        <th class=\"col_heading level0 col7\" >大阪のアイス平均支出</th>        <th class=\"col_heading level0 col8\" >福岡の気温</th>        <th class=\"col_heading level0 col9\" >福岡のアイス平均支出</th>    </tr></thead><tbody>\n",
       "                <tr>\n",
       "                        <th id=\"T_d0e7c05b_46a1_11ec_899a_2816a86f1d5flevel0_row0\" class=\"row_heading level0 row0\" >札幌の気温</th>\n",
       "                        <td id=\"T_d0e7c05b_46a1_11ec_899a_2816a86f1d5frow0_col0\" class=\"data row0 col0\" >1.000000</td>\n",
       "                        <td id=\"T_d0e7c05b_46a1_11ec_899a_2816a86f1d5frow0_col1\" class=\"data row0 col1\" >0.740415</td>\n",
       "                        <td id=\"T_d0e7c05b_46a1_11ec_899a_2816a86f1d5frow0_col2\" class=\"data row0 col2\" >0.993958</td>\n",
       "                        <td id=\"T_d0e7c05b_46a1_11ec_899a_2816a86f1d5frow0_col3\" class=\"data row0 col3\" >0.955574</td>\n",
       "                        <td id=\"T_d0e7c05b_46a1_11ec_899a_2816a86f1d5frow0_col4\" class=\"data row0 col4\" >0.997755</td>\n",
       "                        <td id=\"T_d0e7c05b_46a1_11ec_899a_2816a86f1d5frow0_col5\" class=\"data row0 col5\" >0.950345</td>\n",
       "                        <td id=\"T_d0e7c05b_46a1_11ec_899a_2816a86f1d5frow0_col6\" class=\"data row0 col6\" >0.997522</td>\n",
       "                        <td id=\"T_d0e7c05b_46a1_11ec_899a_2816a86f1d5frow0_col7\" class=\"data row0 col7\" >0.832120</td>\n",
       "                        <td id=\"T_d0e7c05b_46a1_11ec_899a_2816a86f1d5frow0_col8\" class=\"data row0 col8\" >0.994852</td>\n",
       "                        <td id=\"T_d0e7c05b_46a1_11ec_899a_2816a86f1d5frow0_col9\" class=\"data row0 col9\" >0.887388</td>\n",
       "            </tr>\n",
       "            <tr>\n",
       "                        <th id=\"T_d0e7c05b_46a1_11ec_899a_2816a86f1d5flevel0_row1\" class=\"row_heading level0 row1\" >札幌のアイス平均支出</th>\n",
       "                        <td id=\"T_d0e7c05b_46a1_11ec_899a_2816a86f1d5frow1_col0\" class=\"data row1 col0\" >0.740415</td>\n",
       "                        <td id=\"T_d0e7c05b_46a1_11ec_899a_2816a86f1d5frow1_col1\" class=\"data row1 col1\" >1.000000</td>\n",
       "                        <td id=\"T_d0e7c05b_46a1_11ec_899a_2816a86f1d5frow1_col2\" class=\"data row1 col2\" >0.749933</td>\n",
       "                        <td id=\"T_d0e7c05b_46a1_11ec_899a_2816a86f1d5frow1_col3\" class=\"data row1 col3\" >0.862711</td>\n",
       "                        <td id=\"T_d0e7c05b_46a1_11ec_899a_2816a86f1d5frow1_col4\" class=\"data row1 col4\" >0.748113</td>\n",
       "                        <td id=\"T_d0e7c05b_46a1_11ec_899a_2816a86f1d5frow1_col5\" class=\"data row1 col5\" >0.821064</td>\n",
       "                        <td id=\"T_d0e7c05b_46a1_11ec_899a_2816a86f1d5frow1_col6\" class=\"data row1 col6\" >0.754419</td>\n",
       "                        <td id=\"T_d0e7c05b_46a1_11ec_899a_2816a86f1d5frow1_col7\" class=\"data row1 col7\" >0.916688</td>\n",
       "                        <td id=\"T_d0e7c05b_46a1_11ec_899a_2816a86f1d5frow1_col8\" class=\"data row1 col8\" >0.740672</td>\n",
       "                        <td id=\"T_d0e7c05b_46a1_11ec_899a_2816a86f1d5frow1_col9\" class=\"data row1 col9\" >0.806022</td>\n",
       "            </tr>\n",
       "            <tr>\n",
       "                        <th id=\"T_d0e7c05b_46a1_11ec_899a_2816a86f1d5flevel0_row2\" class=\"row_heading level0 row2\" >東京の気温</th>\n",
       "                        <td id=\"T_d0e7c05b_46a1_11ec_899a_2816a86f1d5frow2_col0\" class=\"data row2 col0\" >0.993958</td>\n",
       "                        <td id=\"T_d0e7c05b_46a1_11ec_899a_2816a86f1d5frow2_col1\" class=\"data row2 col1\" >0.749933</td>\n",
       "                        <td id=\"T_d0e7c05b_46a1_11ec_899a_2816a86f1d5frow2_col2\" class=\"data row2 col2\" >1.000000</td>\n",
       "                        <td id=\"T_d0e7c05b_46a1_11ec_899a_2816a86f1d5frow2_col3\" class=\"data row2 col3\" >0.957379</td>\n",
       "                        <td id=\"T_d0e7c05b_46a1_11ec_899a_2816a86f1d5frow2_col4\" class=\"data row2 col4\" >0.997767</td>\n",
       "                        <td id=\"T_d0e7c05b_46a1_11ec_899a_2816a86f1d5frow2_col5\" class=\"data row2 col5\" >0.946019</td>\n",
       "                        <td id=\"T_d0e7c05b_46a1_11ec_899a_2816a86f1d5frow2_col6\" class=\"data row2 col6\" >0.995947</td>\n",
       "                        <td id=\"T_d0e7c05b_46a1_11ec_899a_2816a86f1d5frow2_col7\" class=\"data row2 col7\" >0.842464</td>\n",
       "                        <td id=\"T_d0e7c05b_46a1_11ec_899a_2816a86f1d5frow2_col8\" class=\"data row2 col8\" >0.990946</td>\n",
       "                        <td id=\"T_d0e7c05b_46a1_11ec_899a_2816a86f1d5frow2_col9\" class=\"data row2 col9\" >0.888454</td>\n",
       "            </tr>\n",
       "            <tr>\n",
       "                        <th id=\"T_d0e7c05b_46a1_11ec_899a_2816a86f1d5flevel0_row3\" class=\"row_heading level0 row3\" >東京のアイス平均支出</th>\n",
       "                        <td id=\"T_d0e7c05b_46a1_11ec_899a_2816a86f1d5frow3_col0\" class=\"data row3 col0\" >0.955574</td>\n",
       "                        <td id=\"T_d0e7c05b_46a1_11ec_899a_2816a86f1d5frow3_col1\" class=\"data row3 col1\" >0.862711</td>\n",
       "                        <td id=\"T_d0e7c05b_46a1_11ec_899a_2816a86f1d5frow3_col2\" class=\"data row3 col2\" >0.957379</td>\n",
       "                        <td id=\"T_d0e7c05b_46a1_11ec_899a_2816a86f1d5frow3_col3\" class=\"data row3 col3\" >1.000000</td>\n",
       "                        <td id=\"T_d0e7c05b_46a1_11ec_899a_2816a86f1d5frow3_col4\" class=\"data row3 col4\" >0.960653</td>\n",
       "                        <td id=\"T_d0e7c05b_46a1_11ec_899a_2816a86f1d5frow3_col5\" class=\"data row3 col5\" >0.945832</td>\n",
       "                        <td id=\"T_d0e7c05b_46a1_11ec_899a_2816a86f1d5frow3_col6\" class=\"data row3 col6\" >0.964722</td>\n",
       "                        <td id=\"T_d0e7c05b_46a1_11ec_899a_2816a86f1d5frow3_col7\" class=\"data row3 col7\" >0.889098</td>\n",
       "                        <td id=\"T_d0e7c05b_46a1_11ec_899a_2816a86f1d5frow3_col8\" class=\"data row3 col8\" >0.947295</td>\n",
       "                        <td id=\"T_d0e7c05b_46a1_11ec_899a_2816a86f1d5frow3_col9\" class=\"data row3 col9\" >0.943009</td>\n",
       "            </tr>\n",
       "            <tr>\n",
       "                        <th id=\"T_d0e7c05b_46a1_11ec_899a_2816a86f1d5flevel0_row4\" class=\"row_heading level0 row4\" >名古屋の気温</th>\n",
       "                        <td id=\"T_d0e7c05b_46a1_11ec_899a_2816a86f1d5frow4_col0\" class=\"data row4 col0\" >0.997755</td>\n",
       "                        <td id=\"T_d0e7c05b_46a1_11ec_899a_2816a86f1d5frow4_col1\" class=\"data row4 col1\" >0.748113</td>\n",
       "                        <td id=\"T_d0e7c05b_46a1_11ec_899a_2816a86f1d5frow4_col2\" class=\"data row4 col2\" >0.997767</td>\n",
       "                        <td id=\"T_d0e7c05b_46a1_11ec_899a_2816a86f1d5frow4_col3\" class=\"data row4 col3\" >0.960653</td>\n",
       "                        <td id=\"T_d0e7c05b_46a1_11ec_899a_2816a86f1d5frow4_col4\" class=\"data row4 col4\" >1.000000</td>\n",
       "                        <td id=\"T_d0e7c05b_46a1_11ec_899a_2816a86f1d5frow4_col5\" class=\"data row4 col5\" >0.950869</td>\n",
       "                        <td id=\"T_d0e7c05b_46a1_11ec_899a_2816a86f1d5frow4_col6\" class=\"data row4 col6\" >0.999389</td>\n",
       "                        <td id=\"T_d0e7c05b_46a1_11ec_899a_2816a86f1d5frow4_col7\" class=\"data row4 col7\" >0.836481</td>\n",
       "                        <td id=\"T_d0e7c05b_46a1_11ec_899a_2816a86f1d5frow4_col8\" class=\"data row4 col8\" >0.995016</td>\n",
       "                        <td id=\"T_d0e7c05b_46a1_11ec_899a_2816a86f1d5frow4_col9\" class=\"data row4 col9\" >0.886346</td>\n",
       "            </tr>\n",
       "            <tr>\n",
       "                        <th id=\"T_d0e7c05b_46a1_11ec_899a_2816a86f1d5flevel0_row5\" class=\"row_heading level0 row5\" >名古屋のアイス平均支出</th>\n",
       "                        <td id=\"T_d0e7c05b_46a1_11ec_899a_2816a86f1d5frow5_col0\" class=\"data row5 col0\" >0.950345</td>\n",
       "                        <td id=\"T_d0e7c05b_46a1_11ec_899a_2816a86f1d5frow5_col1\" class=\"data row5 col1\" >0.821064</td>\n",
       "                        <td id=\"T_d0e7c05b_46a1_11ec_899a_2816a86f1d5frow5_col2\" class=\"data row5 col2\" >0.946019</td>\n",
       "                        <td id=\"T_d0e7c05b_46a1_11ec_899a_2816a86f1d5frow5_col3\" class=\"data row5 col3\" >0.945832</td>\n",
       "                        <td id=\"T_d0e7c05b_46a1_11ec_899a_2816a86f1d5frow5_col4\" class=\"data row5 col4\" >0.950869</td>\n",
       "                        <td id=\"T_d0e7c05b_46a1_11ec_899a_2816a86f1d5frow5_col5\" class=\"data row5 col5\" >1.000000</td>\n",
       "                        <td id=\"T_d0e7c05b_46a1_11ec_899a_2816a86f1d5frow5_col6\" class=\"data row5 col6\" >0.951082</td>\n",
       "                        <td id=\"T_d0e7c05b_46a1_11ec_899a_2816a86f1d5frow5_col7\" class=\"data row5 col7\" >0.906620</td>\n",
       "                        <td id=\"T_d0e7c05b_46a1_11ec_899a_2816a86f1d5frow5_col8\" class=\"data row5 col8\" >0.945877</td>\n",
       "                        <td id=\"T_d0e7c05b_46a1_11ec_899a_2816a86f1d5frow5_col9\" class=\"data row5 col9\" >0.894518</td>\n",
       "            </tr>\n",
       "            <tr>\n",
       "                        <th id=\"T_d0e7c05b_46a1_11ec_899a_2816a86f1d5flevel0_row6\" class=\"row_heading level0 row6\" >大阪の気温</th>\n",
       "                        <td id=\"T_d0e7c05b_46a1_11ec_899a_2816a86f1d5frow6_col0\" class=\"data row6 col0\" >0.997522</td>\n",
       "                        <td id=\"T_d0e7c05b_46a1_11ec_899a_2816a86f1d5frow6_col1\" class=\"data row6 col1\" >0.754419</td>\n",
       "                        <td id=\"T_d0e7c05b_46a1_11ec_899a_2816a86f1d5frow6_col2\" class=\"data row6 col2\" >0.995947</td>\n",
       "                        <td id=\"T_d0e7c05b_46a1_11ec_899a_2816a86f1d5frow6_col3\" class=\"data row6 col3\" >0.964722</td>\n",
       "                        <td id=\"T_d0e7c05b_46a1_11ec_899a_2816a86f1d5frow6_col4\" class=\"data row6 col4\" >0.999389</td>\n",
       "                        <td id=\"T_d0e7c05b_46a1_11ec_899a_2816a86f1d5frow6_col5\" class=\"data row6 col5\" >0.951082</td>\n",
       "                        <td id=\"T_d0e7c05b_46a1_11ec_899a_2816a86f1d5frow6_col6\" class=\"data row6 col6\" >1.000000</td>\n",
       "                        <td id=\"T_d0e7c05b_46a1_11ec_899a_2816a86f1d5frow6_col7\" class=\"data row6 col7\" >0.838579</td>\n",
       "                        <td id=\"T_d0e7c05b_46a1_11ec_899a_2816a86f1d5frow6_col8\" class=\"data row6 col8\" >0.994992</td>\n",
       "                        <td id=\"T_d0e7c05b_46a1_11ec_899a_2816a86f1d5frow6_col9\" class=\"data row6 col9\" >0.891355</td>\n",
       "            </tr>\n",
       "            <tr>\n",
       "                        <th id=\"T_d0e7c05b_46a1_11ec_899a_2816a86f1d5flevel0_row7\" class=\"row_heading level0 row7\" >大阪のアイス平均支出</th>\n",
       "                        <td id=\"T_d0e7c05b_46a1_11ec_899a_2816a86f1d5frow7_col0\" class=\"data row7 col0\" >0.832120</td>\n",
       "                        <td id=\"T_d0e7c05b_46a1_11ec_899a_2816a86f1d5frow7_col1\" class=\"data row7 col1\" >0.916688</td>\n",
       "                        <td id=\"T_d0e7c05b_46a1_11ec_899a_2816a86f1d5frow7_col2\" class=\"data row7 col2\" >0.842464</td>\n",
       "                        <td id=\"T_d0e7c05b_46a1_11ec_899a_2816a86f1d5frow7_col3\" class=\"data row7 col3\" >0.889098</td>\n",
       "                        <td id=\"T_d0e7c05b_46a1_11ec_899a_2816a86f1d5frow7_col4\" class=\"data row7 col4\" >0.836481</td>\n",
       "                        <td id=\"T_d0e7c05b_46a1_11ec_899a_2816a86f1d5frow7_col5\" class=\"data row7 col5\" >0.906620</td>\n",
       "                        <td id=\"T_d0e7c05b_46a1_11ec_899a_2816a86f1d5frow7_col6\" class=\"data row7 col6\" >0.838579</td>\n",
       "                        <td id=\"T_d0e7c05b_46a1_11ec_899a_2816a86f1d5frow7_col7\" class=\"data row7 col7\" >1.000000</td>\n",
       "                        <td id=\"T_d0e7c05b_46a1_11ec_899a_2816a86f1d5frow7_col8\" class=\"data row7 col8\" >0.845581</td>\n",
       "                        <td id=\"T_d0e7c05b_46a1_11ec_899a_2816a86f1d5frow7_col9\" class=\"data row7 col9\" >0.886436</td>\n",
       "            </tr>\n",
       "            <tr>\n",
       "                        <th id=\"T_d0e7c05b_46a1_11ec_899a_2816a86f1d5flevel0_row8\" class=\"row_heading level0 row8\" >福岡の気温</th>\n",
       "                        <td id=\"T_d0e7c05b_46a1_11ec_899a_2816a86f1d5frow8_col0\" class=\"data row8 col0\" >0.994852</td>\n",
       "                        <td id=\"T_d0e7c05b_46a1_11ec_899a_2816a86f1d5frow8_col1\" class=\"data row8 col1\" >0.740672</td>\n",
       "                        <td id=\"T_d0e7c05b_46a1_11ec_899a_2816a86f1d5frow8_col2\" class=\"data row8 col2\" >0.990946</td>\n",
       "                        <td id=\"T_d0e7c05b_46a1_11ec_899a_2816a86f1d5frow8_col3\" class=\"data row8 col3\" >0.947295</td>\n",
       "                        <td id=\"T_d0e7c05b_46a1_11ec_899a_2816a86f1d5frow8_col4\" class=\"data row8 col4\" >0.995016</td>\n",
       "                        <td id=\"T_d0e7c05b_46a1_11ec_899a_2816a86f1d5frow8_col5\" class=\"data row8 col5\" >0.945877</td>\n",
       "                        <td id=\"T_d0e7c05b_46a1_11ec_899a_2816a86f1d5frow8_col6\" class=\"data row8 col6\" >0.994992</td>\n",
       "                        <td id=\"T_d0e7c05b_46a1_11ec_899a_2816a86f1d5frow8_col7\" class=\"data row8 col7\" >0.845581</td>\n",
       "                        <td id=\"T_d0e7c05b_46a1_11ec_899a_2816a86f1d5frow8_col8\" class=\"data row8 col8\" >1.000000</td>\n",
       "                        <td id=\"T_d0e7c05b_46a1_11ec_899a_2816a86f1d5frow8_col9\" class=\"data row8 col9\" >0.877329</td>\n",
       "            </tr>\n",
       "            <tr>\n",
       "                        <th id=\"T_d0e7c05b_46a1_11ec_899a_2816a86f1d5flevel0_row9\" class=\"row_heading level0 row9\" >福岡のアイス平均支出</th>\n",
       "                        <td id=\"T_d0e7c05b_46a1_11ec_899a_2816a86f1d5frow9_col0\" class=\"data row9 col0\" >0.887388</td>\n",
       "                        <td id=\"T_d0e7c05b_46a1_11ec_899a_2816a86f1d5frow9_col1\" class=\"data row9 col1\" >0.806022</td>\n",
       "                        <td id=\"T_d0e7c05b_46a1_11ec_899a_2816a86f1d5frow9_col2\" class=\"data row9 col2\" >0.888454</td>\n",
       "                        <td id=\"T_d0e7c05b_46a1_11ec_899a_2816a86f1d5frow9_col3\" class=\"data row9 col3\" >0.943009</td>\n",
       "                        <td id=\"T_d0e7c05b_46a1_11ec_899a_2816a86f1d5frow9_col4\" class=\"data row9 col4\" >0.886346</td>\n",
       "                        <td id=\"T_d0e7c05b_46a1_11ec_899a_2816a86f1d5frow9_col5\" class=\"data row9 col5\" >0.894518</td>\n",
       "                        <td id=\"T_d0e7c05b_46a1_11ec_899a_2816a86f1d5frow9_col6\" class=\"data row9 col6\" >0.891355</td>\n",
       "                        <td id=\"T_d0e7c05b_46a1_11ec_899a_2816a86f1d5frow9_col7\" class=\"data row9 col7\" >0.886436</td>\n",
       "                        <td id=\"T_d0e7c05b_46a1_11ec_899a_2816a86f1d5frow9_col8\" class=\"data row9 col8\" >0.877329</td>\n",
       "                        <td id=\"T_d0e7c05b_46a1_11ec_899a_2816a86f1d5frow9_col9\" class=\"data row9 col9\" >1.000000</td>\n",
       "            </tr>\n",
       "    </tbody></table>"
      ],
      "text/plain": [
       "<pandas.io.formats.style.Styler at 0x23ad8fbf6a0>"
      ]
     },
     "execution_count": 31,
     "metadata": {},
     "output_type": "execute_result"
    }
   ],
   "source": [
    "from sklearn import datasets\n",
    "df_ice.corr().style.background_gradient(axis=None)"
   ]
  },
  {
   "cell_type": "code",
   "execution_count": null,
   "metadata": {},
   "outputs": [],
   "source": []
  }
 ],
 "metadata": {
  "kernelspec": {
   "display_name": "Python 3",
   "language": "python",
   "name": "python3"
  },
  "language_info": {
   "codemirror_mode": {
    "name": "ipython",
    "version": 3
   },
   "file_extension": ".py",
   "mimetype": "text/x-python",
   "name": "python",
   "nbconvert_exporter": "python",
   "pygments_lexer": "ipython3",
   "version": "3.8.5"
  }
 },
 "nbformat": 4,
 "nbformat_minor": 4
}
